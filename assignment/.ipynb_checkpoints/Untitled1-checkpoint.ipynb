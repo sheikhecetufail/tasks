{
 "cells": [
  {
   "cell_type": "code",
   "execution_count": 51,
   "metadata": {},
   "outputs": [],
   "source": [
    "x = 1\n",
    "y = -1.1\n",
    "z = 'My Name'\n",
    "t = True"
   ]
  },
  {
   "cell_type": "code",
   "execution_count": 6,
   "metadata": {},
   "outputs": [
    {
     "name": "stdout",
     "output_type": "stream",
     "text": [
      "<class 'int'> <class 'float'> <class 'str'> <class 'bool'>\n"
     ]
    }
   ],
   "source": [
    "print(type(x),type(y),type(z),type(t))"
   ]
  },
  {
   "cell_type": "code",
   "execution_count": 5,
   "metadata": {},
   "outputs": [
    {
     "name": "stdout",
     "output_type": "stream",
     "text": [
      "my name\n",
      "my name\n",
      "MY NAME\n",
      "my name\n",
      "My Name\n",
      "0\n",
      "xy naxe\n",
      "eman ym\n",
      "False False False\n"
     ]
    }
   ],
   "source": [
    "# Mosh 2nd week\n",
    "a = 'my'\n",
    "b = 'name'\n",
    "c = a+' ' + b\n",
    "print(c)\n",
    "print(f'{a} {b}')\n",
    "print(c.upper())\n",
    "print(c.lower())\n",
    "print(c.title())\n",
    "print(c.find('m'))\n",
    "print(c.replace('m','x'))\n",
    "print(c[::-1]) # ****************reversing a string or a list\n",
    "#print(1 + int(input('Enter no: ')))\n",
    "\n",
    "# falsy values \n",
    "print(True == '' , True == 0, True == None)"
   ]
  },
  {
   "cell_type": "code",
   "execution_count": 44,
   "metadata": {},
   "outputs": [
    {
     "name": "stdout",
     "output_type": "stream",
     "text": [
      "not eligible\n"
     ]
    }
   ],
   "source": [
    "# week 3\n",
    "a = 2\n",
    "b = 3 \n",
    "c = 4\n",
    "if 1 < c < 3: #chaining comparison operator\n",
    "    print()\n",
    "abc = 4\n",
    "if abc > 3:\n",
    "    print('aa')\n",
    "elif abc :\n",
    "    print('aaa')\n",
    "else :\n",
    "    \n",
    "    \n",
    "\n",
    "# ternary operator\n",
    "age = 2\n",
    "message = 'eligible ' if age >=20 else 'not eligible'\n",
    "print(message)\n",
    "\n",
    "# boolean operator \n",
    "if True and True: # both should be true or use 'or ' if only one shoiuld be correct\n",
    "    do this \n",
    "else :\n",
    "    this\n",
    "    \n",
    "if not False: # if not x > :\n",
    "    print('a')\n",
    "    do this\n",
    "    \n",
    "    \n",
    "# for else...       if break doesnt get executed, then else statement will be executed\n",
    "for a in range(9):]\n",
    "    if a ==2:\n",
    "        print()\n",
    "        break\n",
    "else:\n",
    "    print()\n"
   ]
  },
  {
   "cell_type": "code",
   "execution_count": 63,
   "metadata": {},
   "outputs": [
    {
     "data": {
      "text/plain": [
       "{'name': 'tufail', 'roll_no': 7}"
      ]
     },
     "execution_count": 63,
     "metadata": {},
     "output_type": "execute_result"
    }
   ],
   "source": [
    "# Fnctions \n",
    "def increment(number,by):  # number and by are parameters\n",
    "    return number + by\n",
    "\n",
    "increment(2, 1) # 2 , 1 are arguments\n",
    "increment(2, by=1)  # keyword argument\n",
    "\n",
    "def deccrement(number,number_2, by = 2):  # by is optional parameter and default argument. but should come \n",
    "    #  at last number, by = 2 ,number_2 is wrong\n",
    "    return number + by\n",
    "\n",
    "deccrement(3,4) # if optional argument not given default value is taken\n",
    "deccrement(3,4,5) \n",
    "\n",
    "# when arguments to a fn are variable\n",
    "def multiply(*numbers): #  *numbers returns an iterable ( tuples) containing arguments\n",
    "    return numbers\n",
    "\n",
    "multiply(2,3,4,5,6)\n",
    "\n",
    "# when when arguments to a fn are variable and arguments given are keyword arguments\n",
    "def user_data(**user): #  **user returns an dictionary containing keyword arguments\n",
    "    return user\n",
    "\n",
    "\n",
    "user_data(name = 'tufail' , roll_no = 7)\n"
   ]
  },
  {
   "cell_type": "code",
   "execution_count": 3,
   "metadata": {},
   "outputs": [
    {
     "name": "stdout",
     "output_type": "stream",
     "text": [
      "Hi\n",
      "Hi\n",
      "welcome  \n",
      "******** Cautionmessage variable is chanfges\n"
     ]
    }
   ],
   "source": [
    "# global andlocal variables \n",
    "message = 'Hi'\n",
    "def greet():\n",
    "    message = 'welcome'\n",
    "    \n",
    "    \n",
    "\n",
    "def gre():\n",
    "    global message # now message variable will get globally changed ,baaad practice\n",
    "    message = 'welcome'\n",
    "\n",
    "print(message)\n",
    "greet()\n",
    "print(message)\n",
    "gre()\n",
    "print(message,' \\n******** Cautionmessage variable is chanfges')"
   ]
  },
  {
   "cell_type": "code",
   "execution_count": 12,
   "metadata": {},
   "outputs": [
    {
     "name": "stdout",
     "output_type": "stream",
     "text": [
      "1 \n",
      " 2 \n",
      " [3, 4, 5, 5, 5, 5, 5, 9]\n",
      "1 \n",
      " [2, 3, 4, 5, 5, 5, 5, 5] \n",
      " 9\n"
     ]
    }
   ],
   "source": [
    "# list unpacking\n",
    "num = [1,2,3,4,5,5,5,5,5,9]\n",
    "first,second , *others= num\n",
    "print(first,'\\n',second,'\\n',others )\n",
    "\n",
    "\n",
    "num = [1,2,3,4,5,5,5,5,5,9]\n",
    "first, *others, last= num\n",
    "print(first,'\\n',others,'\\n',last )\n",
    "\n",
    "enumerate(iterable)\n",
    "\n",
    "a = list()\n",
    "a.append()\n",
    "a.insert(0,'a')\n",
    "a.pop()\n",
    "a.pop(2)\n",
    "a.remove('a')\n",
    "del a[2]\n",
    "del a[0:2]\n",
    "a.clear()\n"
   ]
  },
  {
   "cell_type": "markdown",
   "metadata": {},
   "source": [
    "# Classes\n",
    "\n"
   ]
  },
  {
   "cell_type": "markdown",
   "metadata": {},
   "source": [
    "## Classes : blueprint for creating new objects eg human\n",
    "## Objects : instance of a class eg tufail"
   ]
  },
  {
   "cell_type": "code",
   "execution_count": null,
   "metadata": {},
   "outputs": [],
   "source": [
    "isinstance(object,class)"
   ]
  },
  {
   "cell_type": "code",
   "execution_count": 50,
   "metadata": {},
   "outputs": [],
   "source": [
    "class LogisticRegression:\n",
    "    \n",
    "    features = [1,2,3]   # Class level attribute. Can be also defined after object creation by Logisticregresion.features = 1\n",
    "    \n",
    "    def __init__(self,alpha, regLambda, epsilon, maxNumIters):\n",
    "        print('provide features and labels by using',self,'.X command')# in every method of class, self should be given as argument\n",
    "        self.alpha = alpha\n",
    "        self.regLambda = regLambda\n",
    "        self.epsilon = epsilon\n",
    "        self.maxNumIters = maxNumIters\n",
    "    def fit(X,y):# train the classifier from labeled data (X, y)\n",
    "        return print('fit')\n",
    "    \n",
    "    \n",
    "    def predict(X): # return a vector of n predictions for each of n rows of X\n",
    "        return print('predict')\n",
    "    def computeCost(theta, X, y, regLambda): #'''computes the logistic regression objective function for the\n",
    "#given values of θ, X, y, and λ (“lambda” is a keyword in python, so we must call the regularization\n",
    "#parameter something different)'''\n",
    "        return print('fCC') \n",
    "        \n",
    "    def computeGradient(theta, X, y, reg): #'''computes the d-dimensional gradient of the logistic regression\n",
    "#objective function for the given values of θ, X, y, and reg = λ    '''\n",
    "        return print('CG')\n",
    "        \n",
    "    def sigmoid(self,z): #returns the sigmoid function of z.    \n",
    "        return print('sig')\n",
    "        \n",
    "    \n",
    "    \n",
    "    \n",
    "    \n",
    "    \n",
    "    \n",
    "    "
   ]
  },
  {
   "cell_type": "code",
   "execution_count": 51,
   "metadata": {},
   "outputs": [
    {
     "name": "stdout",
     "output_type": "stream",
     "text": [
      "provide features and labels by using <__main__.LogisticRegression object at 0x000000000724E4C0> .X command\n"
     ]
    }
   ],
   "source": [
    "LR = LogisticRegression(1,2,3,4)"
   ]
  },
  {
   "cell_type": "code",
   "execution_count": 54,
   "metadata": {},
   "outputs": [
    {
     "data": {
      "text/plain": [
       "<method-wrapper '__str__' of LogisticRegression object at 0x000000000724E4C0>"
      ]
     },
     "execution_count": 54,
     "metadata": {},
     "output_type": "execute_result"
    }
   ],
   "source": []
  },
  {
   "cell_type": "code",
   "execution_count": 40,
   "metadata": {},
   "outputs": [
    {
     "data": {
      "text/plain": [
       "1"
      ]
     },
     "execution_count": 40,
     "metadata": {},
     "output_type": "execute_result"
    }
   ],
   "source": [
    "LR.Labels"
   ]
  },
  {
   "cell_type": "code",
   "execution_count": 41,
   "metadata": {},
   "outputs": [],
   "source": [
    "RR = LogisticRegression(1,2,3,4)"
   ]
  },
  {
   "cell_type": "code",
   "execution_count": 42,
   "metadata": {},
   "outputs": [
    {
     "data": {
      "text/plain": [
       "1"
      ]
     },
     "execution_count": 42,
     "metadata": {},
     "output_type": "execute_result"
    }
   ],
   "source": [
    "RR.Labels"
   ]
  },
  {
   "cell_type": "code",
   "execution_count": null,
   "metadata": {},
   "outputs": [],
   "source": []
  }
 ],
 "metadata": {
  "kernelspec": {
   "display_name": "Python 3",
   "language": "python",
   "name": "python3"
  },
  "language_info": {
   "codemirror_mode": {
    "name": "ipython",
    "version": 3
   },
   "file_extension": ".py",
   "mimetype": "text/x-python",
   "name": "python",
   "nbconvert_exporter": "python",
   "pygments_lexer": "ipython3",
   "version": "3.8.3"
  }
 },
 "nbformat": 4,
 "nbformat_minor": 4
}
