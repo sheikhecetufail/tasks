{
 "cells": [
  {
   "cell_type": "markdown",
   "metadata": {},
   "source": [
    "## Linear Regression is a statistical model used in Machine Learning that falls in the “Supervised Learning” class of algorithms. We use it for predicting continuous-valued outputs.\n",
    "Regression refers to an ensemble of statistical techniques and algorithms for describing the relationship between two or more variables"
   ]
  },
  {
   "cell_type": "markdown",
   "metadata": {},
   "source": [
    "#### Dataset Description\n",
    "Let’s start with our example: we have a dataset of patients checked for Systolic Blood Pressure (SBP) and monitored for age and weight, and we want to predict the SBP for a new patient. Implicitly we hypothesize that factors such as weight and age influence the SBP."
   ]
  },
  {
   "cell_type": "markdown",
   "metadata": {},
   "source": [
    "The Variable to be explained (SBP) is called the Dependent Variable, or Response Variable, and it matches with our output variable or target vector. Instead, the variables that explain the input (age and weight) are called Independent Variables or Predictor Variables, or Features. If the dependent and independent variables are continuous, as is the case for SBP, age, and weight, then a Correlation coefficient can be calculated as a measure of the strength of the relationship between them."
   ]
  },
  {
   "cell_type": "markdown",
   "metadata": {},
   "source": [
    "#### Step 1: Loading the dataset"
   ]
  },
  {
   "cell_type": "code",
   "execution_count": 214,
   "metadata": {},
   "outputs": [],
   "source": [
    "import numpy as np \n",
    "import matplotlib.pyplot as plt \n",
    "import pandas as pd \n",
    "from __future__ import division"
   ]
  },
  {
   "cell_type": "code",
   "execution_count": 215,
   "metadata": {},
   "outputs": [
    {
     "data": {
      "text/html": [
       "<div>\n",
       "<style scoped>\n",
       "    .dataframe tbody tr th:only-of-type {\n",
       "        vertical-align: middle;\n",
       "    }\n",
       "\n",
       "    .dataframe tbody tr th {\n",
       "        vertical-align: top;\n",
       "    }\n",
       "\n",
       "    .dataframe thead th {\n",
       "        text-align: right;\n",
       "    }\n",
       "</style>\n",
       "<table border=\"1\" class=\"dataframe\">\n",
       "  <thead>\n",
       "    <tr style=\"text-align: right;\">\n",
       "      <th></th>\n",
       "      <th>Age</th>\n",
       "      <th>Weight</th>\n",
       "      <th>SBP</th>\n",
       "    </tr>\n",
       "  </thead>\n",
       "  <tbody>\n",
       "    <tr>\n",
       "      <th>0</th>\n",
       "      <td>60</td>\n",
       "      <td>58</td>\n",
       "      <td>117</td>\n",
       "    </tr>\n",
       "    <tr>\n",
       "      <th>1</th>\n",
       "      <td>61</td>\n",
       "      <td>90</td>\n",
       "      <td>120</td>\n",
       "    </tr>\n",
       "    <tr>\n",
       "      <th>2</th>\n",
       "      <td>74</td>\n",
       "      <td>96</td>\n",
       "      <td>145</td>\n",
       "    </tr>\n",
       "    <tr>\n",
       "      <th>3</th>\n",
       "      <td>57</td>\n",
       "      <td>72</td>\n",
       "      <td>129</td>\n",
       "    </tr>\n",
       "    <tr>\n",
       "      <th>4</th>\n",
       "      <td>63</td>\n",
       "      <td>62</td>\n",
       "      <td>132</td>\n",
       "    </tr>\n",
       "    <tr>\n",
       "      <th>5</th>\n",
       "      <td>68</td>\n",
       "      <td>79</td>\n",
       "      <td>130</td>\n",
       "    </tr>\n",
       "    <tr>\n",
       "      <th>6</th>\n",
       "      <td>66</td>\n",
       "      <td>69</td>\n",
       "      <td>110</td>\n",
       "    </tr>\n",
       "    <tr>\n",
       "      <th>7</th>\n",
       "      <td>77</td>\n",
       "      <td>96</td>\n",
       "      <td>163</td>\n",
       "    </tr>\n",
       "    <tr>\n",
       "      <th>8</th>\n",
       "      <td>63</td>\n",
       "      <td>96</td>\n",
       "      <td>136</td>\n",
       "    </tr>\n",
       "    <tr>\n",
       "      <th>9</th>\n",
       "      <td>54</td>\n",
       "      <td>54</td>\n",
       "      <td>115</td>\n",
       "    </tr>\n",
       "    <tr>\n",
       "      <th>10</th>\n",
       "      <td>63</td>\n",
       "      <td>67</td>\n",
       "      <td>118</td>\n",
       "    </tr>\n",
       "    <tr>\n",
       "      <th>11</th>\n",
       "      <td>76</td>\n",
       "      <td>99</td>\n",
       "      <td>132</td>\n",
       "    </tr>\n",
       "    <tr>\n",
       "      <th>12</th>\n",
       "      <td>60</td>\n",
       "      <td>74</td>\n",
       "      <td>111</td>\n",
       "    </tr>\n",
       "    <tr>\n",
       "      <th>13</th>\n",
       "      <td>61</td>\n",
       "      <td>73</td>\n",
       "      <td>112</td>\n",
       "    </tr>\n",
       "    <tr>\n",
       "      <th>14</th>\n",
       "      <td>65</td>\n",
       "      <td>85</td>\n",
       "      <td>147</td>\n",
       "    </tr>\n",
       "    <tr>\n",
       "      <th>15</th>\n",
       "      <td>79</td>\n",
       "      <td>80</td>\n",
       "      <td>138</td>\n",
       "    </tr>\n",
       "  </tbody>\n",
       "</table>\n",
       "</div>"
      ],
      "text/plain": [
       "    Age  Weight  SBP\n",
       "0    60      58  117\n",
       "1    61      90  120\n",
       "2    74      96  145\n",
       "3    57      72  129\n",
       "4    63      62  132\n",
       "5    68      79  130\n",
       "6    66      69  110\n",
       "7    77      96  163\n",
       "8    63      96  136\n",
       "9    54      54  115\n",
       "10   63      67  118\n",
       "11   76      99  132\n",
       "12   60      74  111\n",
       "13   61      73  112\n",
       "14   65      85  147\n",
       "15   79      80  138"
      ]
     },
     "execution_count": 215,
     "metadata": {},
     "output_type": "execute_result"
    }
   ],
   "source": [
    "# Read data from file 'SBP.csv' \n",
    "# Make a pandas DataFrame \"df\" \n",
    "# containing the SBP data.\n",
    "import pandas as pd\n",
    "df = pd.read_csv(\"SBP.csv\")\n",
    "df"
   ]
  },
  {
   "cell_type": "markdown",
   "metadata": {},
   "source": [
    "## Linear Regression with One Variable"
   ]
  },
  {
   "cell_type": "markdown",
   "metadata": {},
   "source": [
    "\n",
    "The SBP dataset is formed by 3 columns (Age, Weight, and SBP), but we will use the first and the last columns (Age and SBP); our model will determine the strength of the relationship between Age and SBP. Pandas makes easy accessing to DataFrame variables, that will be copied in an X vector, containing the input, and a y vector, for the output."
   ]
  },
  {
   "cell_type": "code",
   "execution_count": 216,
   "metadata": {},
   "outputs": [],
   "source": [
    " #Make the X numpy arrays, containing the values of Age.\n",
    "# and the output vector y, containing the SBP values.\n",
    "\n",
    "X = np.asarray(df['Age'].values) #input\n",
    "y = np.asarray(df['SBP'].values) #target"
   ]
  },
  {
   "cell_type": "markdown",
   "metadata": {},
   "source": [
    "## Step 2: Feature Scaling and Normalization"
   ]
  },
  {
   "cell_type": "code",
   "execution_count": 217,
   "metadata": {},
   "outputs": [],
   "source": [
    "def FeatureScalingNormalization(X):\n",
    "    # Initialize the following variables:\n",
    "    # Make a copy of the X vector and call it X_norm\n",
    "    X_norm = X \n",
    "\n",
    "    # mu: It will contain the average \n",
    "    # value of X in training set.\n",
    "    mu = np.zeros(X.shape[0]) \n",
    "\n",
    "    # sigma: It will contain the Range(max-min)\n",
    "    # of X or Standard Deviation\n",
    "    sigma = np.zeros(X.shape[0]) \n",
    "\n",
    "    mu = X.mean()\n",
    "    # The Standard Deviation calculation with NumPy,\n",
    "    # requires the argument \"degrees of freedom\" = 1\n",
    "    sigma = X.std(ddof=1)\n",
    "\n",
    "    # number of training examples\n",
    "    m = X.shape[0] \n",
    "    \n",
    "    # Make a vector of size m with the mu values\n",
    "    mu_matrix = np.multiply(np.ones(m), mu).T \n",
    "    \n",
    "    # Make a vector of size m with the sigma values    \n",
    "    sigma_matrix = np.multiply(np.ones(m), sigma).T\n",
    "    \n",
    "    # Apply the Feature Scaling Normalization formula\n",
    "    X_norm = np.subtract(X, mu).T\n",
    "    X_norm = X_norm /sigma.T\n",
    "    \n",
    "    return [X_norm, mu, sigma]"
   ]
  },
  {
   "cell_type": "markdown",
   "metadata": {},
   "source": [
    "The code below implements a Python function called FeatureScalingNormalization(). This function takes X that is the features vector as an argument, and return 3 arguments: 1) the same X vector but scaled and normalized (X_norm), 2) mu, that is the average values of X in training set) and 3) sigma that is the Standard Deviation."
   ]
  },
  {
   "cell_type": "code",
   "execution_count": 218,
   "metadata": {},
   "outputs": [],
   "source": [
    "# Normalize X using the FeatureScalingNormalization() function, and \n",
    "# copy the results in the \"featuresNormalizeresults\" list\n",
    "featuresNormalizeresults = FeatureScalingNormalization(X)\n",
    "\n",
    "# get the normalized X matrix\n",
    "X = np.asarray(featuresNormalizeresults[0]).T\n",
    "\n",
    "# get the mean\n",
    "mu = featuresNormalizeresults[1]\n",
    "\n",
    "# get the sigma\n",
    "sigma = featuresNormalizeresults[2]"
   ]
  },
  {
   "cell_type": "markdown",
   "metadata": {},
   "source": [
    "#### The X vector containing the Age values is now normalized."
   ]
  },
  {
   "cell_type": "code",
   "execution_count": 219,
   "metadata": {},
   "outputs": [
    {
     "data": {
      "text/plain": [
       "array([-0.73189052, -0.59728997,  1.15251726, -1.13569219, -0.32808885,\n",
       "        0.34491392,  0.07571281,  1.55631892, -0.32808885, -1.53949386,\n",
       "       -0.32808885,  1.42171837, -0.73189052, -0.59728997, -0.05888774,\n",
       "        1.82552004])"
      ]
     },
     "execution_count": 219,
     "metadata": {},
     "output_type": "execute_result"
    }
   ],
   "source": [
    "X"
   ]
  },
  {
   "cell_type": "markdown",
   "metadata": {},
   "source": [
    "## Step 3: Add a column of ones to the X vector\n",
    "Now we will add a column of ones to the X vector."
   ]
  },
  {
   "cell_type": "code",
   "execution_count": 220,
   "metadata": {},
   "outputs": [],
   "source": [
    "# Add a column of ones to the matrix X\n",
    "\n",
    "m = len(y) # number of training examples\n",
    "X = np.vstack((np.ones(m), X.T)).T"
   ]
  },
  {
   "cell_type": "code",
   "execution_count": 221,
   "metadata": {},
   "outputs": [
    {
     "data": {
      "text/plain": [
       "array([[ 1.        , -0.73189052],\n",
       "       [ 1.        , -0.59728997],\n",
       "       [ 1.        ,  1.15251726],\n",
       "       [ 1.        , -1.13569219],\n",
       "       [ 1.        , -0.32808885],\n",
       "       [ 1.        ,  0.34491392],\n",
       "       [ 1.        ,  0.07571281],\n",
       "       [ 1.        ,  1.55631892],\n",
       "       [ 1.        , -0.32808885],\n",
       "       [ 1.        , -1.53949386],\n",
       "       [ 1.        , -0.32808885],\n",
       "       [ 1.        ,  1.42171837],\n",
       "       [ 1.        , -0.73189052],\n",
       "       [ 1.        , -0.59728997],\n",
       "       [ 1.        , -0.05888774],\n",
       "       [ 1.        ,  1.82552004]])"
      ]
     },
     "execution_count": 221,
     "metadata": {},
     "output_type": "execute_result"
    }
   ],
   "source": [
    "#The new structure of X is:\n",
    "X"
   ]
  },
  {
   "cell_type": "markdown",
   "metadata": {},
   "source": [
    "## Step 4: Plotting the dataset"
   ]
  },
  {
   "cell_type": "code",
   "execution_count": 222,
   "metadata": {},
   "outputs": [
    {
     "data": {
      "text/plain": [
       "Text(0, 0.5, 'SBP')"
      ]
     },
     "execution_count": 222,
     "metadata": {},
     "output_type": "execute_result"
    },
    {
     "data": {
      "image/png": "[encoded data removed]",
      "text/plain": [
       "<Figure size 432x288 with 1 Axes>"
      ]
     },
     "metadata": {
      "needs_background": "light"
     },
     "output_type": "display_data"
    }
   ],
   "source": [
    "# Plot the data (plt is a matplotlib object)\n",
    "plt.scatter(X[:,[1]], y,  color='black') \n",
    "\n",
    "# Put labels\n",
    "plt.xlabel(\"Age\")\n",
    "plt.ylabel(\"SBP\")"
   ]
  },
  {
   "cell_type": "markdown",
   "metadata": {},
   "source": [
    "Visualizing the data at a glance, we can notice a pattern of increasing relationship, between Age and SBP. This is what we expect since systolic pressure is physiologically connected to age increasing."
   ]
  },
  {
   "cell_type": "markdown",
   "metadata": {},
   "source": [
    "## Step 5: The Hypothesis (Linear Regression Model)"
   ]
  },
  {
   "cell_type": "markdown",
   "metadata": {},
   "source": [
    "The idea underlying the Linear Regression is represented by a function that predicts the output y based on the input feature X."
   ]
  },
  {
   "cell_type": "markdown",
   "metadata": {},
   "source": [
    "![alt text](HP.png)"
   ]
  },
  {
   "cell_type": "markdown",
   "metadata": {},
   "source": [
    "The predicted output is the h = θ * X term that is equal to a constant called “bias term” or “intercept term” or θ_0 plus a weighted sum of the input features X, where θ_1 represents the weight for X. We will call this function “Hypothesis” , and we will use it to “map” from X (Age) to y (SBP)."
   ]
  },
  {
   "cell_type": "markdown",
   "metadata": {},
   "source": [
    "The best performance in predicting y consists of finding θ values for which the distance between the predicted y value and the actual y value is closer to the minimum.\n",
    "Let’s try two parameters randomly chosen, for the vector θ, for instance: θ = [120.0, 10.0], and see what happens:"
   ]
  },
  {
   "cell_type": "code",
   "execution_count": 223,
   "metadata": {},
   "outputs": [
    {
     "data": {
      "text/plain": [
       "Text(0, 0.5, 'SBP')"
      ]
     },
     "execution_count": 223,
     "metadata": {},
     "output_type": "execute_result"
    },
    {
     "data": {
      "image/png": "[encoded data removed]",
      "text/plain": [
       "<Figure size 432x288 with 1 Axes>"
      ]
     },
     "metadata": {
      "needs_background": "light"
     },
     "output_type": "display_data"
    }
   ],
   "source": [
    "# Plot the Hypothesis: set theta manually\n",
    "theta_0 = 120.0\n",
    "theta_1 = 10.0\n",
    "\n",
    "# the vector theta is initialized with theta_0 and theta_1\n",
    "theta = np.asarray([theta_0,theta_1]).astype(float)\n",
    "\n",
    "# Plot the data\n",
    "plt.scatter(X[:,[1]], y,  color='black') \n",
    "\n",
    "# Plot a red line corrensponding to our Hypothesis model.\n",
    "plt.plot(X[:,[1]], np.sum(np.multiply(X,theta), axis=1), color='red', linewidth=1)\n",
    "\n",
    "# Put labels\n",
    "plt.xlabel(\"Age\")\n",
    "plt.ylabel(\"SBP\")"
   ]
  },
  {
   "cell_type": "markdown",
   "metadata": {},
   "source": [
    "The Hypothesis model above, represented by the red line, should predict y (the SBP). It represents our h=θX vector in predicting y for the values of θ = [120.0, 10.0]. But this model, obviously, does not fit our data. The Hypothesis “touches” some of the y values, but the rest of the h vector is far from the minimum. So we are tempted to guess which θ could predict y when setting with different values. We could choose θ “by trial and error” to minimize all the distances between the Hypothesis and y. To accomplish this goal, we can calculate the Cost Function for our model."
   ]
  },
  {
   "cell_type": "markdown",
   "metadata": {},
   "source": [
    "## Step 6: Calculating the Cost Function\n",
    "The Cost Function can register how much far we are from the minimum of the Hypothesis model and can help us in finding the best θ. The equation describing the Cost Function is the following:"
   ]
  },
  {
   "cell_type": "markdown",
   "metadata": {},
   "source": [
    "![alt text](COST_Linear.png)"
   ]
  },
  {
   "cell_type": "markdown",
   "metadata": {},
   "source": [
    "In order to simplify the explanation, let’s try to manually calculate the Cost Function for a smaller dataset composed only of the first 3 values of the SBP dataset, and with θ = [120.0, 10.0]. These parameters are chosen randomly, at the moment, because we don’t have to set the best θ for now. We will split the X and y, producing arrays X_1 and y_1:"
   ]
  },
  {
   "cell_type": "code",
   "execution_count": 224,
   "metadata": {},
   "outputs": [],
   "source": [
    "# Make a vector X_1 with the first 3 values of X\n",
    "X_1 = X[0:3]\n",
    "\n",
    "# Make a vector y_1 with the first 3 values of y\n",
    "y_1 = y[0:3]\n",
    "\n",
    "# Set m_1 = 3\n",
    "# number of training examples\n",
    "m_1 = 3"
   ]
  },
  {
   "cell_type": "code",
   "execution_count": 225,
   "metadata": {},
   "outputs": [
    {
     "data": {
      "text/plain": [
       "array([[ 1.        , -0.73189052],\n",
       "       [ 1.        , -0.59728997],\n",
       "       [ 1.        ,  1.15251726]])"
      ]
     },
     "execution_count": 225,
     "metadata": {},
     "output_type": "execute_result"
    }
   ],
   "source": [
    "X_1"
   ]
  },
  {
   "cell_type": "code",
   "execution_count": 226,
   "metadata": {},
   "outputs": [
    {
     "data": {
      "text/plain": [
       "Text(0, 0.5, 'SBP')"
      ]
     },
     "execution_count": 226,
     "metadata": {},
     "output_type": "execute_result"
    },
    {
     "data": {
      "image/png": "[encoded data removed]",
      "text/plain": [
       "<Figure size 432x288 with 1 Axes>"
      ]
     },
     "metadata": {
      "needs_background": "light"
     },
     "output_type": "display_data"
    }
   ],
   "source": [
    "# Plot data and Hypothesis: set theta manually\n",
    "\n",
    "theta_0 = 120.0\n",
    "theta_1 = 10.0\n",
    "\n",
    "# the vector theta is initialized with theta_0 and theta_1\n",
    "theta = np.asarray([theta_0,theta_1]).astype(float)\n",
    "\n",
    "# Plot the data\n",
    "plt.scatter(X_1[:,[1]], y_1,  color='blue') \n",
    "\n",
    "# Plot a red line corresponding to our Hypothesis model.\n",
    "plt.plot(X_1[:,[1]], np.sum(np.multiply(X_1,theta), axis=1), color='red', linewidth=1)\n",
    "# Plot red points corresponding to the predicted values.\n",
    "plt.scatter(X_1[:,[1]], np.sum(np.multiply(X_1,theta), axis=1),  color='red') \n",
    "\n",
    "# Put labels\n",
    "plt.xlabel(\"Age\")\n",
    "plt.ylabel(\"SBP\")"
   ]
  },
  {
   "cell_type": "code",
   "execution_count": 227,
   "metadata": {},
   "outputs": [
    {
     "data": {
      "text/plain": [
       "array([[127.3189052, 114.0271003, 131.5251726]])"
      ]
     },
     "execution_count": 227,
     "metadata": {},
     "output_type": "execute_result"
    }
   ],
   "source": [
    "#vectorized implementation\n",
    "A = [[120 ,10]] ## THETA\n",
    "\n",
    "B = [[1,1,1 ],\n",
    "    [0.73189052 ,-0.59728997,1.15251726]] ##X INPUT\n",
    "\n",
    " \n",
    "result =np.dot(A,B)\n",
    " \n",
    "result"
   ]
  },
  {
   "cell_type": "markdown",
   "metadata": {},
   "source": [
    "The vector y corresponding to the first three values (the blue dots) of the SBP is:\n",
    "y = [117.0, 120.0, 145.0]\n",
    "Since our θ is = [120, 10.0], the product of h = θ*X_1 will be represented by the following vector, (highlighted by the dots on the red line):\n",
    "h = θ*X_1 = [127.7, 114.0, 131.5]"
   ]
  },
  {
   "cell_type": "markdown",
   "metadata": {},
   "source": [
    "#### The following Code implements the cost function"
   ]
  },
  {
   "cell_type": "code",
   "execution_count": 228,
   "metadata": {},
   "outputs": [],
   "source": [
    "# Calculate the Cost Function\n",
    "def calcCostFunction(X, y, theta):\n",
    "    \n",
    "    # number of training examples\n",
    "    m = len(y) \n",
    "    \n",
    "    # initialize J (the cost)\n",
    "    J = 0 \n",
    "\n",
    "    # Calculate h = X * theta (we're using vectorized notation)\n",
    "    h = np.sum(np.multiply(X, theta), axis=1)\n",
    "    \n",
    "    # Calculate the Squared Error = (h - y)^2 (vectorized)\n",
    "    SquaredError = np.power(np.subtract(h,y), 2)\n",
    "    \n",
    "    # Calculate the Cost J\n",
    "    J = 1/(2*m) * np.sum(SquaredError)\n",
    "    \n",
    "    return J"
   ]
  },
  {
   "cell_type": "markdown",
   "metadata": {},
   "source": [
    "The code implements step by step the Cost Function (vectorized). Let’s repeat again:\n",
    "* The Hypothesis (h=θX)\n",
    "* The SquaredError that is = (h-y) ^2)\n",
    "* The Cost Function J that is = 1/2m * Sum(SquaredError)\n",
    "Now that we have understood the mechanism underlying the Cost Function calculation, let’s go back to the complete SBP dataset (16 patients). If we want to calculate the Cost Function for the whole SBP dataset, using θ = [120.0; 10.0], we will type :"
   ]
  },
  {
   "cell_type": "code",
   "execution_count": 229,
   "metadata": {},
   "outputs": [
    {
     "data": {
      "text/plain": [
       "95.30399770383346"
      ]
     },
     "execution_count": 229,
     "metadata": {},
     "output_type": "execute_result"
    }
   ],
   "source": [
    "calcCostFunction(X,y,theta)"
   ]
  },
  {
   "cell_type": "markdown",
   "metadata": {},
   "source": [
    "#### Trying to compute j values manually"
   ]
  },
  {
   "cell_type": "markdown",
   "metadata": {},
   "source": [
    "The following code generates randomly 10 θ vectors and passes them to the calcCostFunction, producing a table of the relative Cost Functions (J):\n"
   ]
  },
  {
   "cell_type": "code",
   "execution_count": 230,
   "metadata": {},
   "outputs": [
    {
     "name": "stdout",
     "output_type": "stream",
     "text": [
      "[Th0 Th1] \tJ\n",
      "[13. 45.] 7298.446114667251\n",
      "[12. 18.] 6868.9221958669\n",
      "[32. 22.] 4777.856294948435\n",
      "[45. 50.] 4292.457488519168\n",
      "[20. 75.] 7922.514357778751\n",
      "[53. 12.] 2907.0835472446\n",
      "[74. 88.] 4396.893929793735\n",
      "[30. 94.] 8216.045078416035\n",
      "[10. 20.] 7120.764245407667\n",
      "[12. 43.] 7350.541565126483\n"
     ]
    }
   ],
   "source": [
    "# Try some random theta, and produce a table with \n",
    "# random theta values and their relative J\n",
    "\n",
    "import random # import the random library \n",
    "\n",
    "print(\"[Th0 Th1]\", \"\\tJ\") # write an header\n",
    "\n",
    "for x in range(10):\n",
    "    theta_0 = random.randint(1,101)\n",
    "    theta_1 = random.randint(1,101)   \n",
    "    theta = np.asarray([theta_0, theta_1]).astype(float)\n",
    "    # Calculate J and print the table\n",
    "    print(theta, calcCostFunction(X, y, theta))"
   ]
  },
  {
   "cell_type": "markdown",
   "metadata": {},
   "source": [
    "The “take-home message” is that trying to handly minimize J, is not the correct way to proceed. After 10 runs on randomly selected θ’s, the behavior of J is unpredictable. Moreover, there is no way to guess J basing on θ. So the question is: How we can choose θ, to find the minimum J? We need an algorithm that can minimize J for us, and this algorithm is the argument of the next Step."
   ]
  },
  {
   "cell_type": "markdown",
   "metadata": {},
   "source": [
    "## Step 7: Gradient Descent"
   ]
  },
  {
   "cell_type": "markdown",
   "metadata": {},
   "source": [
    "We are interested in finding the minimum of the Cost Function using Gradient Descent, which is an algorithm that can automatize this search. The Gradient Descent calculates the derivative of the Cost Function, updating the vector θ by mean of the parameter α, that is the learning rate.\n",
    "Gradient Descent will use the difference between the actual vector y of the dataset and the h vector prediction, to “learn” how to find the minimum J. The algorithm will repeat until it will converge. θ updating has to be simultaneous."
   ]
  },
  {
   "cell_type": "markdown",
   "metadata": {},
   "source": [
    "![alt text](GRADIENT.png)"
   ]
  },
  {
   "cell_type": "markdown",
   "metadata": {},
   "source": [
    "#### Vectorized form\n",
    "![alt text](vectorized.png)"
   ]
  },
  {
   "cell_type": "markdown",
   "metadata": {},
   "source": [
    "#### Gradient Descent implementation."
   ]
  },
  {
   "cell_type": "code",
   "execution_count": 231,
   "metadata": {},
   "outputs": [],
   "source": [
    "def gradientDescent(X, y, theta, alpha, num_iters):\n",
    "    \n",
    "    # number of training examples\n",
    "    m = len(y) \n",
    "\n",
    "    # Initialize J_history and Theta_history\n",
    "    J_history = []\n",
    "    Theta_history = []\n",
    "    \n",
    "    for i in range(num_iters):\n",
    "        \n",
    "        # Calculate h = X * theta (vectorized Eq. 5)\n",
    "        h = np.sum(np.multiply(X,theta), axis=1)\n",
    "    \n",
    "        # Calculate the error = (h - y) (vectorized Eq. 5)\n",
    "        error = np.subtract(h, y)\n",
    "        \n",
    "        # Calculate the new theta (vectorized Eq. 5)\n",
    "        theta_new = alpha * 1/m * np.sum(np.multiply(X.T, error), axis=1)\n",
    "        \n",
    "        # Update theta\n",
    "        theta = np.subtract(theta, theta_new)\n",
    "        \n",
    "        # Collect all the theta and J\n",
    "        Theta_history.append(theta.tolist())        \n",
    "        J_history.append(calcCostFunction(X,y,theta).tolist())\n",
    "\n",
    "        \n",
    "    return theta, Theta_history, J_history"
   ]
  },
  {
   "cell_type": "markdown",
   "metadata": {},
   "source": [
    "To run the Gradient Descent, we have to initialize θ, iterations, and α, that together with X and y are the arguments of the gradientDescent function:"
   ]
  },
  {
   "cell_type": "code",
   "execution_count": 232,
   "metadata": {},
   "outputs": [],
   "source": [
    "# Running the Gradient Descent\n",
    "\n",
    "# Initialize theta\n",
    "theta = np.asarray([0,0]).astype(float)\n",
    "\n",
    "# Set the number of iterations for the Gradient Descent\n",
    "iterations = 2000\n",
    "\n",
    "# Set the Learning Rate\n",
    "alpha = 0.01\n",
    "\n",
    "# Run the gradientDescent() function, and collect the output in \"results\"\n",
    "results = gradientDescent(X, y, theta, alpha, iterations)\n",
    "\n",
    "# Get the theta from the results\n",
    "theta = results[0] # new theta\n",
    "\n",
    "# Get the theta history \n",
    "Theta_history = results[1] # Theta history\n",
    "\n",
    "# Get the J history \n",
    "J_history = results[2] # Cost funtion history"
   ]
  },
  {
   "cell_type": "code",
   "execution_count": 233,
   "metadata": {},
   "outputs": [
    {
     "data": {
      "text/plain": [
       "[8189.215427240348,\n",
       " 8027.49459832014,\n",
       " 7868.990961623042,\n",
       " 7713.640514661439,\n",
       " 7561.380528230737,\n",
       " 7412.149521077872,\n",
       " 7265.887235073793,\n",
       " 7122.534610879869,\n",
       " 6982.033764098433,\n",
       " 6844.327961897793,\n",
       " 6709.361600102299,\n",
       " 6577.08018073819,\n",
       " 6447.430290026179,\n",
       " 6320.359576811855,\n",
       " 6195.8167314252305,\n",
       " 6073.751464960861,\n",
       " 5954.114488970189,\n",
       " 5836.857495557913,\n",
       " 5721.933137874325,\n",
       " 5609.295010995762,\n",
       " 5498.8976331854265,\n",
       " 5390.696427527038,\n",
       " 5284.64770392386,\n",
       " 5180.708641455867,\n",
       " 5078.837271087914,\n",
       " 4978.992458721911,\n",
       " 4881.133888586187,\n",
       " 4785.2220469553085,\n",
       " 4691.218206193797,\n",
       " 4599.084409117293,\n",
       " 4508.78345366484,\n",
       " 4420.278877876128,\n",
       " 4333.534945167601,\n",
       " 4248.5166299014945,\n",
       " 4165.189603241976,\n",
       " 4083.520219292669,\n",
       " 4003.475501509979,\n",
       " 3925.02312938671,\n",
       " 3848.131425400616,\n",
       " 3772.769342222604,\n",
       " 3698.9064501794273,\n",
       " 3626.5129249658066,\n",
       " 3555.559535601014,\n",
       " 3486.017632625054,\n",
       " 3417.8591365296843,\n",
       " 3351.056526419597,\n",
       " 3285.5828288991743,\n",
       " 3221.4116071803514,\n",
       " 3158.5169504071637,\n",
       " 3096.8734631926877,\n",
       " 3036.4562553641317,\n",
       " 2977.2409319119556,\n",
       " 2919.2035831389394,\n",
       " 2862.3207750052393,\n",
       " 2806.569539665522,\n",
       " 2751.927366194359,\n",
       " 2698.372191496142,\n",
       " 2645.8823913958317,\n",
       " 2594.436771906962,\n",
       " 2544.0145606733586,\n",
       " 2494.5953985811248,\n",
       " 2446.1593315374994,\n",
       " 2398.686802413276,\n",
       " 2352.158643145517,\n",
       " 2306.556066997392,\n",
       " 2261.860660971991,\n",
       " 2218.05437837707,\n",
       " 2175.119531537717,\n",
       " 2133.0387846539898,\n",
       " 2091.7951468006563,\n",
       " 2051.371965066195,\n",
       " 2011.752917828299,\n",
       " 1972.9220081631508,\n",
       " 1934.8635573858264,\n",
       " 1897.5621987192028,\n",
       " 1861.0028710888253,\n",
       " 1825.1708130412158,\n",
       " 1790.0515567831794,\n",
       " 1755.6309223396938,\n",
       " 1721.8950118280245,\n",
       " 1688.8302038457502,\n",
       " 1656.4231479704422,\n",
       " 1624.6607593687647,\n",
       " 1593.530213512824,\n",
       " 1563.0189410016374,\n",
       " 1533.1146224856188,\n",
       " 1503.8051836920458,\n",
       " 1475.078790549489,\n",
       " 1446.9238444092382,\n",
       " 1419.328977361794,\n",
       " 1392.2830476465397,\n",
       " 1365.775135152729,\n",
       " 1339.7945370099826,\n",
       " 1314.3307632665085,\n",
       " 1289.3735326533024,\n",
       " 1264.9127684326118,\n",
       " 1240.938594328999,\n",
       " 1217.4413305413486,\n",
       " 1194.4114898342139,\n",
       " 1171.8397737069258,\n",
       " 1149.717068638911,\n",
       " 1128.0344424097116,\n",
       " 1106.7831404922097,\n",
       " 1085.9545825176122,\n",
       " 1065.5403588107579,\n",
       " 1045.5322269943547,\n",
       " 1025.922108660771,\n",
       " 1006.7020861100424,\n",
       " 987.8643991527704,\n",
       " 969.401441976627,\n",
       " 951.3057600751955,\n",
       " 933.5700472379131,\n",
       " 916.1871425998951,\n",
       " 899.1500277504471,\n",
       " 882.4518238991075,\n",
       " 866.0857890980637,\n",
       " 850.0453155198295,\n",
       " 834.3239267890788,\n",
       " 818.9152753675635,\n",
       " 803.8131399910517,\n",
       " 789.0114231572597,\n",
       " 774.504148663759,\n",
       " 760.2854591948618,\n",
       " 746.3496139565178,\n",
       " 732.69098635826,\n",
       " 719.3040617412651,\n",
       " 706.1834351516145,\n",
       " 693.3238091578544,\n",
       " 680.7199917119722,\n",
       " 668.3668940529269,\n",
       " 656.2595286518886,\n",
       " 644.3930071983534,\n",
       " 632.7625386263255,\n",
       " 621.3634271797625,\n",
       " 610.1910705165119,\n",
       " 599.2409578499633,\n",
       " 588.5086681276745,\n",
       " 577.9898682462292,\n",
       " 567.6803113016108,\n",
       " 557.5758348743818,\n",
       " 547.6723593489785,\n",
       " 537.9658862664409,\n",
       " 528.4524967099145,\n",
       " 519.1283497222705,\n",
       " 509.98968075520656,\n",
       " 501.0328001491997,\n",
       " 492.25409164369955,\n",
       " 483.650010916961,\n",
       " 475.2170841549235,\n",
       " 466.9519066485627,\n",
       " 458.8511414191456,\n",
       " 450.9115178708333,\n",
       " 443.12983047009243,\n",
       " 435.50293745137475,\n",
       " 428.0277595485481,\n",
       " 420.7012787515622,\n",
       " 413.52053708785195,\n",
       " 406.4826354279801,\n",
       " 399.58473231504377,\n",
       " 392.8240428173651,\n",
       " 386.19783740400965,\n",
       " 379.70344084267344,\n",
       " 373.3382311194943,\n",
       " 367.0996383803546,\n",
       " 360.9851438932438,\n",
       " 354.99227903126496,\n",
       " 349.1186242758717,\n",
       " 343.36180823993624,\n",
       " 337.71950671024996,\n",
       " 332.18944170907537,\n",
       " 326.7693805743645,\n",
       " 321.45713505827763,\n",
       " 316.25056044363373,\n",
       " 311.14755467794,\n",
       " 306.1460575246475,\n",
       " 301.244049731292,\n",
       " 296.4395522141833,\n",
       " 291.7306252593153,\n",
       " 287.1153677391709,\n",
       " 282.5919163451096,\n",
       " 278.1584448350247,\n",
       " 273.81316329596774,\n",
       " 269.55431742144197,\n",
       " 265.38018780307254,\n",
       " 261.2890892363696,\n",
       " 257.27937004030036,\n",
       " 253.34941139039918,\n",
       " 249.49762666514297,\n",
       " 245.72246080533085,\n",
       " 242.0223896862073,\n",
       " 238.39591950207617,\n",
       " 234.84158616315747,\n",
       " 231.35795470444225,\n",
       " 227.94361870630766,\n",
       " 224.5971997266588,\n",
       " 221.31734674436595,\n",
       " 218.102735613775,\n",
       " 214.95206853006877,\n",
       " 211.86407350526574,\n",
       " 208.83750385464046,\n",
       " 205.87113769336338,\n",
       " 202.96377744315362,\n",
       " 200.1142493487443,\n",
       " 197.32140300397054,\n",
       " 194.58411088728207,\n",
       " 191.90126790649774,\n",
       " 189.27179095261644,\n",
       " 186.69461846250368,\n",
       " 184.16870999027867,\n",
       " 181.69304578722694,\n",
       " 179.2666263900705,\n",
       " 176.8884722174294,\n",
       " 174.55762317431012,\n",
       " 172.27313826446223,\n",
       " 170.03409521044708,\n",
       " 167.83959008126413,\n",
       " 165.68873692738555,\n",
       " 163.5806674230504,\n",
       " 161.51453051567614,\n",
       " 159.4894920822433,\n",
       " 157.50473459251614,\n",
       " 155.55945677896372,\n",
       " 153.6528733132462,\n",
       " 151.78421448913787,\n",
       " 149.95272591175754,\n",
       " 148.15766819298096,\n",
       " 146.39831665291285,\n",
       " 144.67396102729813,\n",
       " 142.98390518075195,\n",
       " 141.32746682569712,\n",
       " 139.70397724689002,\n",
       " 138.11278103142894,\n",
       " 136.55323580413227,\n",
       " 135.0247119681811,\n",
       " 133.526592450921,\n",
       " 132.0582724547215,\n",
       " 130.6191592127908,\n",
       " 129.20867174984886,\n",
       " 127.82624064756092,\n",
       " 126.47130781463787,\n",
       " 125.14332626150937,\n",
       " 123.84175987948028,\n",
       " 122.56608322427968,\n",
       " 121.3157813039159,\n",
       " 120.09034937075259,\n",
       " 118.88929271771977,\n",
       " 117.71212647857995,\n",
       " 116.55837543216683,\n",
       " 115.42757381051925,\n",
       " 114.31926511083083,\n",
       " 113.23300191114157,\n",
       " 112.16834568969453,\n",
       " 111.12486664788847,\n",
       " 110.10214353674954,\n",
       " 109.09976348685733,\n",
       " 108.11732184165328,\n",
       " 107.15442199406483,\n",
       " 106.2106752263804,\n",
       " 105.28570055330913,\n",
       " 104.37912456816284,\n",
       " 103.49058129209786,\n",
       " 102.6197120263562,\n",
       " 101.76616520744548,\n",
       " 100.92959626520033,\n",
       " 100.10966748366727,\n",
       " 99.30604786475666,\n",
       " 98.51841299460789,\n",
       " 97.74644491261131,\n",
       " 96.98983198303793,\n",
       " 96.24826876922089,\n",
       " 95.52145591024053,\n",
       " 94.80910000006318,\n",
       " 94.11091346908316,\n",
       " 93.42661446802182,\n",
       " 92.75592675413618,\n",
       " 92.0985795796914,\n",
       " 91.45430758265104,\n",
       " 90.82285067954287,\n",
       " 90.20395396045497,\n",
       " 89.59736758612152,\n",
       " 89.00284668705508,\n",
       " 88.4201512646859,\n",
       " 87.84904609446757,\n",
       " 87.28930063091057,\n",
       " 86.74068891450446,\n",
       " 86.20298948049196,\n",
       " 85.67598526945778,\n",
       " 85.15946353969613,\n",
       " 84.65321578132107,\n",
       " 84.15703763208623,\n",
       " 83.67072879487816,\n",
       " 83.19409295685179,\n",
       " 82.72693771017393,\n",
       " 82.26907447434388,\n",
       " 81.82031842005908,\n",
       " 81.38048839459488,\n",
       " 80.94940684866962,\n",
       " 80.5268997647636,\n",
       " 80.1127965868647,\n",
       " 79.70693015161122,\n",
       " 79.30913662080451,\n",
       " 78.91925541526402,\n",
       " 78.5371291499984,\n",
       " 78.162603570666,\n",
       " 77.79552749129952,\n",
       " 77.43575273326914,\n",
       " 77.08313406546054,\n",
       " 76.73752914564184,\n",
       " 76.39879846299817,\n",
       " 76.06680528180823,\n",
       " 75.74141558624211,\n",
       " 75.42249802625682,\n",
       " 75.10992386456817,\n",
       " 74.80356692467754,\n",
       " 74.5033035399324,\n",
       " 74.20901250360052,\n",
       " 73.92057501993698,\n",
       " 73.6378746562244,\n",
       " 73.36079729576814,\n",
       " 73.08923109182501,\n",
       " 72.82306642245028,\n",
       " 72.56219584624114,\n",
       " 72.30651405896214,\n",
       " 72.0559178510318,\n",
       " 71.81030606585664,\n",
       " 71.56957955899259,\n",
       " 71.33364115811963,\n",
       " 71.10239562381248,\n",
       " 70.87574961109135,\n",
       " 70.65361163173796,\n",
       " 70.43589201736067,\n",
       " 70.22250288319513,\n",
       " 70.01335809262417,\n",
       " 69.80837322240396,\n",
       " 69.60746552858168,\n",
       " 69.41055391309163,\n",
       " 69.21755889101505,\n",
       " 69.02840255849178,\n",
       " 68.8430085612703,\n",
       " 68.66130206388284,\n",
       " 68.48320971943429,\n",
       " 68.30865963999167,\n",
       " 68.13758136756262,\n",
       " 67.96990584565165,\n",
       " 67.80556539138152,\n",
       " 67.6444936681699,\n",
       " 67.48662565894882,\n",
       " 67.33189763991749,\n",
       " 67.18024715481678,\n",
       " 67.03161298971598,\n",
       " 66.88593514830023,\n",
       " 66.74315482765047,\n",
       " 66.60321439450463,\n",
       " 66.46605736199128,\n",
       " 66.33162836682571,\n",
       " 66.19987314696021,\n",
       " 66.0707385196786,\n",
       " 65.94417236012654,\n",
       " 65.82012358026878,\n",
       " 65.69854210826527,\n",
       " 65.57937886825758,\n",
       " 65.46258576055672,\n",
       " 65.34811564222618,\n",
       " 65.23592230805015,\n",
       " 65.12596047188102,\n",
       " 65.01818574835767,\n",
       " 64.91255463498729,\n",
       " 64.80902449458392,\n",
       " 64.70755353805608,\n",
       " 64.60810080753699,\n",
       " 64.51062615985009,\n",
       " 64.41509025030379,\n",
       " 64.32145451680826,\n",
       " 64.22968116430854,\n",
       " 64.139733149527,\n",
       " 64.05157416600929,\n",
       " 63.965168629467925,\n",
       " 63.8804816634175,\n",
       " 63.797479085095105,\n",
       " 63.71612739166187,\n",
       " 63.63639374667766,\n",
       " 63.5582459668457,\n",
       " 63.48165250902093,\n",
       " 63.40658245747609,\n",
       " 63.33300551142182,\n",
       " 63.260891972774516,\n",
       " 63.19021273416801,\n",
       " 63.120939267202985,\n",
       " 63.053043610930985,\n",
       " 62.98649836056673,\n",
       " 62.92127665642555,\n",
       " 62.85735217308074,\n",
       " 62.79469910873591,\n",
       " 62.73329217481003,\n",
       " 62.67310658572859,\n",
       " 62.61411804891816,\n",
       " 62.55630275500004,\n",
       " 62.49963736817896,\n",
       " 62.44409901682289,\n",
       " 62.389665284230304,\n",
       " 62.33631419958121,\n",
       " 62.284024229067725,\n",
       " 62.232774267201606,\n",
       " 62.18254362829458,\n",
       " 62.13331203810782,\n",
       " 62.08505962566786,\n",
       " 62.0377669152453,\n",
       " 61.99141481849268,\n",
       " 61.94598462673932,\n",
       " 61.90145800343899,\n",
       " 61.85781697676805,\n",
       " 61.815043932370564,\n",
       " 61.773121606248125,\n",
       " 61.73203307779066,\n",
       " 61.69176176294621,\n",
       " 61.65229140752648,\n",
       " 61.61360608064533,\n",
       " 61.57569016828827,\n",
       " 61.53852836700929,\n",
       " 61.50210567775348,\n",
       " 61.46640739980238,\n",
       " 61.43141912483982,\n",
       " 61.397126731135785,\n",
       " 61.36351637784581,\n",
       " 61.330574499424074,\n",
       " 61.29828780014736,\n",
       " 61.266643248748046,\n",
       " 61.23562807315401,\n",
       " 61.205229755332724,\n",
       " 61.17543602623845,\n",
       " 61.146234860859465,\n",
       " 61.11761447336426,\n",
       " 61.08956331234392,\n",
       " 61.0620700561491,\n",
       " 61.03512360832029,\n",
       " 61.00871309310831,\n",
       " 60.982827851084416,\n",
       " 60.95745743483727,\n",
       " 60.93259160475604,\n",
       " 60.908220324896945,\n",
       " 60.8843337589321,\n",
       " 60.860922266179145,\n",
       " 60.83797639770971,\n",
       " 60.81548689253532,\n",
       " 60.793444673868805,\n",
       " 60.77184084546104,\n",
       " 60.750666688009304,\n",
       " 60.72991365563804,\n",
       " 60.70957337244937,\n",
       " 60.689637629141735,\n",
       " 60.67009837969654,\n",
       " 60.65094773813031,\n",
       " 60.63217797531121,\n",
       " 60.61378151583965,\n",
       " 60.59575093499008,\n",
       " 60.578078955714176,\n",
       " 60.56075844570344,\n",
       " 60.543782414510105,\n",
       " 60.527144010725706,\n",
       " 60.510836519215296,\n",
       " 60.49485335840711,\n",
       " 60.479188077635605,\n",
       " 60.46383435453807,\n",
       " 60.44878599250233,\n",
       " 60.43403691816566,\n",
       " 60.419581178963185,\n",
       " 60.40541294072522,\n",
       " 60.391526485322515,\n",
       " 60.377916208357746,\n",
       " 60.3645766169038,\n",
       " 60.3515023272862,\n",
       " 60.338688062910464,\n",
       " 60.32612865213172,\n",
       " 60.31381902616769,\n",
       " 60.30175421705245,\n",
       " 60.2899293556313,\n",
       " 60.278339669595226,\n",
       " 60.26698048155487,\n",
       " 60.25584720715217,\n",
       " 60.24493535321031,\n",
       " 60.23424051591995,\n",
       " 60.22375837906162,\n",
       " 60.213484712263586,\n",
       " 60.20341536929451,\n",
       " 60.19354628638946,\n",
       " 60.18387348061018,\n",
       " 60.17439304823679,\n",
       " 60.16510116319283,\n",
       " 60.15599407550033,\n",
       " 60.14706810976647,\n",
       " 60.13831966370007,\n",
       " 60.12974520665751,\n",
       " 60.12134127821782,\n",
       " 60.11310448678563,\n",
       " 60.10503150822258,\n",
       " 60.097119084505195,\n",
       " 60.089364022410464,\n",
       " 60.08176319222627,\n",
       " 60.074313526488545,\n",
       " 60.067012018743135,\n",
       " 60.059855722332216,\n",
       " 60.05284174920504,\n",
       " 60.045967268752065,\n",
       " 60.03922950666269,\n",
       " 60.032625743805326,\n",
       " 60.02615331512985,\n",
       " 60.019809608592126,\n",
       " 60.01359206409949,\n",
       " 60.00749817247758,\n",
       " 60.001525474457495,\n",
       " 59.99567155968333,\n",
       " 59.989934065739,\n",
       " 59.98431067719522,\n",
       " 59.978799124674296,\n",
       " 59.97339718393482,\n",
       " 59.96810267497342,\n",
       " 59.962913461145114,\n",
       " 59.95782744830104,\n",
       " 59.952842583942754,\n",
       " 59.947956856394306,\n",
       " 59.943168293990084,\n",
       " 59.93847496427906,\n",
       " 59.93387497324464,\n",
       " 59.92936646454057,\n",
       " 59.924947618741314,\n",
       " 59.920616652607976,\n",
       " 59.91637181836844,\n",
       " 59.91221140301194,\n",
       " 59.90813372759783,\n",
       " 59.90413714657758,\n",
       " 59.90022004713112,\n",
       " 59.896380848515435,\n",
       " 59.89261800142683,\n",
       " 59.88892998737543,\n",
       " 59.885315318072514,\n",
       " 59.88177253482974,\n",
       " 59.8783002079703,\n",
       " 59.874896936252014,\n",
       " 59.87156134630174,\n",
       " 59.86829209206113,\n",
       " 59.86508785424324,\n",
       " 59.86194733980018,\n",
       " 59.85886928140112,\n",
       " 59.85585243692093,\n",
       " 59.85289558893862,\n",
       " 59.849997544246335,\n",
       " 59.84715713336744,\n",
       " 59.84437321008472,\n",
       " 59.84164465097763,\n",
       " 59.838970354969035,\n",
       " 59.83634924288074,\n",
       " 59.83378025699781,\n",
       " 59.83126236064189,\n",
       " 59.828794537752714,\n",
       " 59.82637579247803,\n",
       " 59.82400514877157,\n",
       " 59.821681649999334,\n",
       " 59.819404358553285,\n",
       " 59.817172355473126,\n",
       " 59.81498474007525,\n",
       " 59.81284062958934,\n",
       " 59.810739158802,\n",
       " 59.80867947970768,\n",
       " 59.806660761166285,\n",
       " 59.80468218856783,\n",
       " 59.80274296350363,\n",
       " 59.800842303444114,\n",
       " 59.798979441422915,\n",
       " 59.79715362572748,\n",
       " 59.795364119595504,\n",
       " 59.79361020091778,\n",
       " 59.79189116194651,\n",
       " 59.79020630900996,\n",
       " 59.78855496223228,\n",
       " 59.78693645525923,\n",
       " 59.78535013498913,\n",
       " 59.783795361309544,\n",
       " 59.7822715068385,\n",
       " 59.780777956671756,\n",
       " 59.77931410813437,\n",
       " 59.77787937053753,\n",
       " 59.776473164940086,\n",
       " 59.7750949239151,\n",
       " 59.773744091320566,\n",
       " 59.772420122075204,\n",
       " 59.77112248193848,\n",
       " 59.769850647294696,\n",
       " 59.76860410494205,\n",
       " 59.76738235188524,\n",
       " 59.76618489513261,\n",
       " 59.76501125149719,\n",
       " 59.76386094740158,\n",
       " 59.76273351868696,\n",
       " 59.761628510425695,\n",
       " 59.76054547673776,\n",
       " 59.75948398061077,\n",
       " 59.758443593723555,\n",
       " 59.757423896273636,\n",
       " 59.756424476807275,\n",
       " 59.755444932053706,\n",
       " 59.754484866762574,\n",
       " 59.7535438935441,\n",
       " 59.75262163271285,\n",
       " 59.751717712134486,\n",
       " 59.750831767075795,\n",
       " 59.74996344005717,\n",
       " 59.74911238070851,\n",
       " 59.748278245627844,\n",
       " 59.74746069824275,\n",
       " 59.74665940867429,\n",
       " 59.74587405360437,\n",
       " 59.7451043161447,\n",
       " 59.74434988570938,\n",
       " 59.74361045788919,\n",
       " 59.74288573432905,\n",
       " 59.7421754226073,\n",
       " 59.74147923611811,\n",
       " 59.740796893955356,\n",
       " 59.74012812079948,\n",
       " 59.73947264680659,\n",
       " 59.73883020749906,\n",
       " 59.73820054365927,\n",
       " 59.73758340122481,\n",
       " 59.736978531185834,\n",
       " 59.73638568948474,\n",
       " 59.73580463691773,\n",
       " 59.735235139038004,\n",
       " 59.73467696606154,\n",
       " 59.734129892773865,\n",
       " 59.73359369843965,\n",
       " 59.73306816671345,\n",
       " 59.732553085552205,\n",
       " 59.73204824712996,\n",
       " 59.73155344775397,\n",
       " 59.73106848778217,\n",
       " 59.73059317154299,\n",
       " 59.73012730725633,\n",
       " 59.7296707069559,\n",
       " 59.72922318641373,\n",
       " 59.72878456506551,\n",
       " 59.728354665937985,\n",
       " 59.727933315577346,\n",
       " 59.727520343979236,\n",
       " 59.72711558452039,\n",
       " 59.72671887389113,\n",
       " 59.726330052029496,\n",
       " 59.72594896205677,\n",
       " 59.725575450214166,\n",
       " 59.72520936580055,\n",
       " 59.72485056111202,\n",
       " 59.724498891382,\n",
       " 59.724154214722766,\n",
       " 59.72381639206852,\n",
       " 59.723485287118976,\n",
       " 59.72316076628451,\n",
       " 59.72284269863219,\n",
       " 59.72253095583292,\n",
       " 59.72222541210966,\n",
       " 59.72192594418687,\n",
       " 59.72163243124035,\n",
       " 59.72134475484892,\n",
       " 59.7210627989464,\n",
       " 59.720786449774586,\n",
       " 59.720515595837995,\n",
       " 59.72025012785804,\n",
       " 59.719989938729604,\n",
       " 59.71973492347743,\n",
       " 59.71948497921393,\n",
       " 59.71924000509763,\n",
       " 59.718999902292495,\n",
       " 59.71876457392797,\n",
       " 59.718533925059916,\n",
       " 59.71830786263247,\n",
       " 59.71808629544016,\n",
       " 59.717869134091515,\n",
       " 59.71765629097253,\n",
       " 59.717447680211734,\n",
       " 59.717243217645205,\n",
       " 59.717042820782964,\n",
       " 59.71684640877527,\n",
       " 59.71665390238039,\n",
       " 59.71646522393223,\n",
       " 59.71628029730947,\n",
       " 59.716099047904386,\n",
       " 59.71592140259308,\n",
       " 59.71574728970563,\n",
       " 59.71557663899763,\n",
       " 59.71540938162147,\n",
       " 59.71524545009873,\n",
       " 59.715084778292706,\n",
       " 59.71492730138229,\n",
       " 59.714772955835,\n",
       " 59.71462167938215,\n",
       " 59.71447341099316,\n",
       " 59.71432809085119,\n",
       " 59.71418566032898,\n",
       " 59.714046061965064,\n",
       " 59.71390923944068,\n",
       " 59.71377513755715,\n",
       " 59.71364370221342,\n",
       " 59.71351488038426,\n",
       " 59.71338862009892,\n",
       " 59.713264870420325,\n",
       " 59.71314358142418,\n",
       " 59.71302470417899,\n",
       " 59.712908190726424,\n",
       " 59.71279399406174,\n",
       " 59.712682068115065,\n",
       " 59.71257236773259,\n",
       " 59.71246484865851,\n",
       " 59.712359467517004,\n",
       " 59.71225618179496,\n",
       " 59.71215494982454,\n",
       " 59.71205573076659,\n",
       " 59.71195848459414,\n",
       " 59.71186317207607,\n",
       " 59.7117697547615,\n",
       " 59.711678194964136,\n",
       " 59.711588455747226,\n",
       " 59.7115005009084,\n",
       " 59.711414294965266,\n",
       " 59.711329803141055,\n",
       " 59.711246991350514,\n",
       " 59.711165826186225,\n",
       " 59.71108627490514,\n",
       " 59.71100830541533,\n",
       " 59.71093188626298,\n",
       " 59.71085698661979,\n",
       " 59.710783576270615,\n",
       " 59.71071162560099,\n",
       " 59.71064110558541,\n",
       " 59.71057198777565,\n",
       " 59.71050424428906,\n",
       " 59.710437847797635,\n",
       " 59.71037277151663,\n",
       " 59.71030898919401,\n",
       " 59.710246475099765,\n",
       " 59.71018520401565,\n",
       " 59.71012515122471,\n",
       " 59.7100662925016,\n",
       " 59.71000860410277,\n",
       " 59.70995206275675,\n",
       " 59.70989664565482,\n",
       " 59.709842330441816,\n",
       " 59.70978909520723,\n",
       " 59.709736918476196,\n",
       " 59.70968577920082,\n",
       " 59.70963565675179,\n",
       " 59.70958653091009,\n",
       " 59.709538381858685,\n",
       " 59.709491190174575,\n",
       " 59.70944493682121,\n",
       " 59.70939960314029,\n",
       " 59.70935517084481,\n",
       " 59.70931162201121,\n",
       " 59.709268939072444,\n",
       " 59.70922710481072,\n",
       " 59.70918610235081,\n",
       " 59.70914591515276,\n",
       " 59.70910652700579,\n",
       " 59.70906792202136,\n",
       " 59.70903008462684,\n",
       " 59.70899299955926,\n",
       " 59.70895665185934,\n",
       " 59.708921026865056,\n",
       " 59.708886110205974,\n",
       " 59.708851887797564,\n",
       " 59.70881834583517,\n",
       " 59.708785470788776,\n",
       " 59.708753249397404,\n",
       " 59.70872166866369,\n",
       " 59.708690715848775,\n",
       " 59.70866037846717,\n",
       " 59.708630644281556,\n",
       " 59.708601501298,\n",
       " 59.70857293776109,\n",
       " 59.708544942149096,\n",
       " 59.708517503169475,\n",
       " 59.70849060975419,\n",
       " 59.70846425105536,\n",
       " 59.708438416440714,\n",
       " 59.70841309548941,\n",
       " 59.70838827798793,\n",
       " 59.70836395392575,\n",
       " 59.70834011349146,\n",
       " 59.70831674706872,\n",
       " 59.708293845232355,\n",
       " 59.708271398744735,\n",
       " 59.70824939855178,\n",
       " 59.70822783577957,\n",
       " 59.70820670173048,\n",
       " 59.708185987880086,\n",
       " 59.70816568587319,\n",
       " 59.70814578752094,\n",
       " 59.70812628479716,\n",
       " 59.70810716983547,\n",
       " 59.70808843492577,\n",
       " 59.70807007251115,\n",
       " 59.70805207518522,\n",
       " 59.70803443568879,\n",
       " 59.70801714690685,\n",
       " 59.7080002018661,\n",
       " 59.70798359373177,\n",
       " 59.70796731580501,\n",
       " 59.70795136152014,\n",
       " 59.707935724442144,\n",
       " 59.70792039826384,\n",
       " 59.70790537680354,\n",
       " 59.70789065400247,\n",
       " 59.707876223922284,\n",
       " 59.70786208074272,\n",
       " 59.70784821875931,\n",
       " 59.707834632381,\n",
       " 59.707821316127784,\n",
       " 59.707808264628824,\n",
       " 59.70779547261989,\n",
       " 59.70778293494159,\n",
       " 59.70777064653703,\n",
       " 59.70775860244981,\n",
       " 59.70774679782225,\n",
       " 59.70773522789311,\n",
       " 59.70772388799587,\n",
       " 59.70771277355687,\n",
       " 59.70770188009321,\n",
       " 59.7076912032114,\n",
       " 59.70768073860509,\n",
       " 59.70767048205356,\n",
       " 59.707660429420216,\n",
       " 59.707650576650465,\n",
       " 59.70764091977051,\n",
       " 59.70763145488549,\n",
       " 59.707622178178,\n",
       " 59.70761308590657,\n",
       " 59.70760417440411,\n",
       " 59.70759544007642,\n",
       " 59.70758687940077,\n",
       " 59.707578488924526,\n",
       " 59.70757026526367,\n",
       " 59.70756220510141,\n",
       " 59.70755430518706,\n",
       " 59.70754656233437,\n",
       " 59.70753897342061,\n",
       " 59.70753153538509,\n",
       " 59.70752424522792,\n",
       " 59.70751710000897,\n",
       " 59.70751009684647,\n",
       " 59.707503232915926,\n",
       " 59.70749650544917,\n",
       " 59.707489911732914,\n",
       " 59.7074834491079,\n",
       " 59.7074771149677,\n",
       " 59.70747090675772,\n",
       " 59.707464821974234,\n",
       " 59.70745885816315,\n",
       " 59.707453012919345,\n",
       " 59.70744728388537,\n",
       " 59.70744166875073,\n",
       " 59.707436165250854,\n",
       " 59.70743077116625,\n",
       " 59.70742548432139,\n",
       " 59.707420302584154,\n",
       " 59.70741522386484,\n",
       " 59.70741024611519,\n",
       " 59.70740536732768,\n",
       " 59.70740058553483,\n",
       " 59.70739589880808,\n",
       " 59.70739130525742,\n",
       " 59.70738680303025,\n",
       " 59.707382390310855,\n",
       " 59.707378065319745,\n",
       " 59.7073738263127,\n",
       " 59.707369671580075,\n",
       " 59.70736559944641,\n",
       " 59.707361608269544,\n",
       " 59.70735769643974,\n",
       " 59.70735386237968,\n",
       " 59.707350104542925,\n",
       " 59.707346421414115,\n",
       " 59.707342811507914,\n",
       " 59.7073392733686,\n",
       " 59.70733580556924,\n",
       " 59.707332406711345,\n",
       " 59.70732907542428,\n",
       " 59.707325810364615,\n",
       " 59.707322610215684,\n",
       " 59.70731947368688,\n",
       " 59.7073163995134,\n",
       " 59.70731338645551,\n",
       " 59.70731043329809,\n",
       " 59.70730753885032,\n",
       " 59.707304701944864,\n",
       " 59.7073019214378,\n",
       " 59.70729919620774,\n",
       " 59.707296525155755,\n",
       " 59.707293907204686,\n",
       " 59.70729134129887,\n",
       " 59.70728882640355,\n",
       " 59.70728636150449,\n",
       " 59.70728394560781,\n",
       " 59.70728157773923,\n",
       " 59.707279256943906,\n",
       " 59.70727698228595,\n",
       " 59.70727475284805,\n",
       " 59.707272567731344,\n",
       " 59.70727042605445,\n",
       " 59.70726832695388,\n",
       " 59.70726626958318,\n",
       " 59.707264253112605,\n",
       " 59.70726227672908,\n",
       " 59.707260339635674,\n",
       " 59.7072584410512,\n",
       " 59.707256580210085,\n",
       " 59.707254756361934,\n",
       " 59.707252968771286,\n",
       " 59.70725121671741,\n",
       " 59.70724949949364,\n",
       " 59.707247816407616,\n",
       " 59.707246166780656,\n",
       " 59.70724454994756,\n",
       " 59.70724296525634,\n",
       " 59.707241412068015,\n",
       " 59.707239889756224,\n",
       " 59.70723839770718,\n",
       " 59.707236935319216,\n",
       " 59.707235502002675,\n",
       " 59.70723409717955,\n",
       " 59.7072327202834,\n",
       " 59.70723137075903,\n",
       " 59.7072300480623,\n",
       " 59.707228751659756,\n",
       " 59.70722748102872,\n",
       " 59.70722623565691,\n",
       " 59.70722501504207,\n",
       " 59.70722381869203,\n",
       " 59.707222646124436,\n",
       " 59.707221496866396,\n",
       " 59.70722037045459,\n",
       " 59.70721926643482,\n",
       " 59.70721818436187,\n",
       " 59.70721712379949,\n",
       " 59.70721608432002,\n",
       " 59.70721506550436,\n",
       " 59.707214066941624,\n",
       " 59.70721308822924,\n",
       " 59.707212128972614,\n",
       " 59.70721118878484,\n",
       " 59.70721026728694,\n",
       " 59.70720936410732,\n",
       " 59.707208478881796,\n",
       " 59.707207611253494,\n",
       " 59.707206760872495,\n",
       " 59.70720592739602,\n",
       " 59.70720511048791,\n",
       " 59.70720430981881,\n",
       " 59.70720352506589,\n",
       " 59.70720275591285,\n",
       " 59.707202002049414,\n",
       " 59.707201263171726,\n",
       " 59.70720053898178,\n",
       " 59.70719982918767,\n",
       " 59.70719913350314,\n",
       " 59.707198451647756,\n",
       " 59.707197783346544,\n",
       " 59.707197128330115,\n",
       " 59.707196486334325,\n",
       " 59.70719585710032,\n",
       " 59.70719524037446,\n",
       " 59.707194635908074,\n",
       " 59.70719404345736,\n",
       " 59.707193462783465,\n",
       " 59.70719289365242,\n",
       " 59.70719233583459,\n",
       " 59.70719178910519,\n",
       " 59.70719125324372,\n",
       " 59.70719072803416,\n",
       " 59.70719021326469,\n",
       " 59.70718970872787,\n",
       " 59.70718921422018,\n",
       " 59.70718872954238,\n",
       " 59.70718825449897,\n",
       " 59.70718778889847,\n",
       " 59.707187332553005,\n",
       " 59.7071868852788,\n",
       " 59.70718644689545,\n",
       " 59.707186017226164,\n",
       " 59.707185596097744,\n",
       " 59.70718518334044,\n",
       " 59.70718477878785,\n",
       " 59.70718438227674,\n",
       " 59.70718399364739,\n",
       " 59.70718361274314,\n",
       " 59.70718323941031,\n",
       " 59.70718287349841,\n",
       " 59.70718251485999,\n",
       " 59.707182163350396,\n",
       " 59.70718181882799,\n",
       " 59.707181481153725,\n",
       " 59.70718115019165,\n",
       " 59.70718082580816,\n",
       " 59.70718050787265,\n",
       " ...]"
      ]
     },
     "execution_count": 233,
     "metadata": {},
     "output_type": "execute_result"
    }
   ],
   "source": [
    "#results[1] #THETA\n",
    "results[2]\n",
    "#results[0]"
   ]
  },
  {
   "cell_type": "markdown",
   "metadata": {},
   "source": [
    "The results are collected in the “results” list. This list is composed of the found θ, plus two lists containing the θ and J histories. After 2000 iterations the Gradient Descent has found θ = [128.4, 9.9], and J = 59.7, which is the minimum J. We will use the two lists for plotting the Gradient Descent activity. The following code will plot the training set and h."
   ]
  },
  {
   "cell_type": "code",
   "execution_count": 234,
   "metadata": {},
   "outputs": [
    {
     "data": {
      "text/plain": [
       "Text(0, 0.5, 'SBP')"
      ]
     },
     "execution_count": 234,
     "metadata": {},
     "output_type": "execute_result"
    },
    {
     "data": {
      "image/png": "[encoded data removed]",
      "text/plain": [
       "<Figure size 432x288 with 1 Axes>"
      ]
     },
     "metadata": {
      "needs_background": "light"
     },
     "output_type": "display_data"
    }
   ],
   "source": [
    "# Plot training set\n",
    "plt.scatter(X[:,[1]], y,  color='black')\n",
    "\n",
    "# Plot Hypothesis (theta were calculated with the Gradient Descent)\n",
    "plt.plot(X[:,[1]], np.sum(np.multiply(X,theta), axis=1), color='red', linewidth=1)\n",
    "\n",
    "# Put labels\n",
    "plt.xlabel(\"Age\")\n",
    "plt.ylabel(\"SBP\")"
   ]
  },
  {
   "cell_type": "markdown",
   "metadata": {},
   "source": [
    "Plot of dataset and h; θ = [128.4; 9.9]; J = 59.7\n",
    "the hypothesis now fits our data"
   ]
  },
  {
   "cell_type": "code",
   "execution_count": 235,
   "metadata": {},
   "outputs": [
    {
     "data": {
      "text/plain": [
       "Text(0, 0.5, 'theta')"
      ]
     },
     "execution_count": 235,
     "metadata": {},
     "output_type": "execute_result"
    },
    {
     "data": {
      "image/png": "[encoded data removed]",
      "text/plain": [
       "<Figure size 432x288 with 1 Axes>"
      ]
     },
     "metadata": {
      "needs_background": "light"
     },
     "output_type": "display_data"
    }
   ],
   "source": [
    "    # Plot the Theta history\n",
    "\n",
    "theta_0 = np.asarray(Theta_history)[:,[0]]\n",
    "theta_1 = np.asarray(Theta_history)[:,[1]]\n",
    "\n",
    "plt.plot(theta_0[0:len(theta_0)], color='red', linewidth=1)\n",
    "plt.plot(theta_1[0:len(theta_1)], color='green', linewidth=1)\n",
    "\n",
    "# Put labels\n",
    "plt.xlabel(\"Iterations\")\n",
    "plt.ylabel(\"theta\")\n"
   ]
  },
  {
   "cell_type": "markdown",
   "metadata": {},
   "source": [
    "A plot of the θ history is shown in Figure 6. The red curve represents θ_0, the green curve θ_1. After 2000 iterations, θ is = [128.4; 9.9]"
   ]
  },
  {
   "cell_type": "code",
   "execution_count": 236,
   "metadata": {},
   "outputs": [
    {
     "data": {
      "text/plain": [
       "Text(0, 0.5, 'J')"
      ]
     },
     "execution_count": 236,
     "metadata": {},
     "output_type": "execute_result"
    },
    {
     "data": {
      "image/png": "[encoded data removed]",
      "text/plain": [
       "<Figure size 432x288 with 1 Axes>"
      ]
     },
     "metadata": {
      "needs_background": "light"
     },
     "output_type": "display_data"
    }
   ],
   "source": [
    "# Plot the J history\n",
    "plt.plot(J_history[0:len(J_history)], color='blue', linewidth=1)\n",
    "\n",
    "# Put labels\n",
    "plt.xlabel(\"Iterations\")\n",
    "plt.ylabel(\"J\")"
   ]
  },
  {
   "cell_type": "markdown",
   "metadata": {},
   "source": [
    "After  2000 iterations the Cost Function falls down, stabilizing around 59.7 after 1500 iterations. The J curve depends on α, that we have set to 0.01."
   ]
  },
  {
   "cell_type": "markdown",
   "metadata": {},
   "source": [
    "## Step 8: Predictions"
   ]
  },
  {
   "cell_type": "markdown",
   "metadata": {},
   "source": [
    "Now that we have found the best θ, we can predict the Systolic Blood Pressure for a 75 years-old person. The query is a vector, composed of two numbers [1, 75]. The first number corresponds to the feature x_0. To run the prediction, we have to scale and normalize the query vector, using the mu and sigma parameters that we have calculated in Step 5: Feature Scaling and Normalization. The query vector will be [1, 1.29]. Then, we have to multiply the query for the θ vector (θ = [128.4, 9.95]). The following code implements the prediction."
   ]
  },
  {
   "cell_type": "code",
   "execution_count": 237,
   "metadata": {},
   "outputs": [],
   "source": [
    "# Perform prediction basing on a query\n",
    "\n",
    "# Predict the Systolic Blood Pressure (SBP) for a 75 yo human:\n",
    "query = [1, 75]\n",
    "\n",
    "# Scale and Normalize the query\n",
    "query_Normalized = [1, ((query[1]-mu)/sigma)]\n",
    "\n",
    "# Predict the SBP: (the prediction is the product of \"75\" and theta)\n",
    "prediction = np.sum(np.multiply(query_Normalized, theta))"
   ]
  },
  {
   "cell_type": "code",
   "execution_count": 238,
   "metadata": {},
   "outputs": [
    {
     "data": {
      "text/plain": [
       "141.24548922108335"
      ]
     },
     "execution_count": 238,
     "metadata": {},
     "output_type": "execute_result"
    }
   ],
   "source": [
    "prediction\n",
    "#The SBP for a 75 years-old man is: 141.2"
   ]
  },
  {
   "cell_type": "markdown",
   "metadata": {},
   "source": [
    "## How to adapt the code for Multiple Variables"
   ]
  },
  {
   "cell_type": "markdown",
   "metadata": {},
   "source": [
    "We have explained the statistical mechanisms underlying Linear Regression with one variable: the feature Age in the SBP dataset. The major part of the code here proposed works also with multiple variables. The SBP dataset is composed of 2 features (Age and Weight) and one output: SBP. In this step, we will update the code in a way that it can fit with multiple variables. The only adjustments required concern:\n",
    "* The Dataset uploading\n",
    "* The Feature Scaling and Normalization function\n",
    "* The code for adding a column of “ones” to the vector X\n",
    "* The Prediction Query.\n",
    "* Dataset uploading\n",
    "*The code for uploading the dataset has to be modified in order to produce a new X vector containing Age and Weight of each patient:\n"
   ]
  },
  {
   "cell_type": "code",
   "execution_count": 239,
   "metadata": {},
   "outputs": [],
   "source": [
    "# Make the X numpy arrays,\n",
    "# containing the values of\n",
    "# Age and Weight\n",
    "# and the output vector y, containing SBP values.\n",
    "X = np.vstack((np.asarray(df.Age.values), \\\n",
    "               np.asarray(df.Weight.values)))\n",
    "y = np.asarray(df.SBP.values)"
   ]
  },
  {
   "cell_type": "markdown",
   "metadata": {},
   "source": [
    "## Feature Scaling and Normalization function\n",
    "The code concerning Feature Scaling and Normalization is modified in vectors mu and sigma. Now the two vectors will accept two parameters each."
   ]
  },
  {
   "cell_type": "code",
   "execution_count": 240,
   "metadata": {},
   "outputs": [],
   "source": [
    "def FeatureScalingNormalization(X):\n",
    "    # Initialize the following variables:\n",
    "    # Make a copy of the X vector and call it X_norm\n",
    "    X_norm = X\n",
    "    \n",
    "    # mu: It will contain the average \n",
    "    # value of X in training set.\n",
    "    mu = np.zeros(X.shape[1])\n",
    "    \n",
    "    # sigma: It will contain the Range(max-min)\n",
    "    # of X or Standard Deviation\n",
    "    sigma = np.zeros(X.shape[1])\n",
    "    mu = np.vstack((X[0].mean(), X[1].mean()))\n",
    "    \n",
    "    # The Standard Deviation calculation with NumPy,\n",
    "    # requires the argument \"degrees of freedom\" = 1\n",
    "    sigma = np.vstack((X[0].std(ddof=1), X[1].std(ddof=1)))\n",
    "    \n",
    "    # number of training examples\n",
    "    m = X.shape[1] \n",
    "    \n",
    "    # Make a vector of size m with the mu values\n",
    "    mu_matrix = np.multiply(np.ones(m), mu).T \n",
    "    \n",
    "    # Make a vector of size m with the sigma values    \n",
    "    sigma_matrix = np.multiply(np.ones(m), sigma).T\n",
    "    \n",
    "    # Apply the Feature Scaling Normalization formula\n",
    "    X_norm = np.subtract(X, mu).T\n",
    "    X_norm = X_norm /sigma.T\n",
    "    \n",
    "    return [X_norm, mu, sigma]"
   ]
  },
  {
   "cell_type": "code",
   "execution_count": 241,
   "metadata": {},
   "outputs": [],
   "source": [
    "# Normalize X using the FeatureScalingNormalization() function, and \n",
    "# copy the results in the \"featuresNormalizeresults\" list\n",
    "featuresNormalizeresults = FeatureScalingNormalization(X)\n",
    "\n",
    "# get the normalized X matrix\n",
    "X = np.asarray(featuresNormalizeresults[0]).T\n",
    "\n",
    "# get the mean\n",
    "mu = featuresNormalizeresults[1]\n",
    "\n",
    "# get the sigma\n",
    "sigma = featuresNormalizeresults[2]"
   ]
  },
  {
   "cell_type": "code",
   "execution_count": 242,
   "metadata": {},
   "outputs": [
    {
     "data": {
      "text/plain": [
       "array([[-0.73189052, -0.59728997,  1.15251726, -1.13569219, -0.32808885,\n",
       "         0.34491392,  0.07571281,  1.55631892, -0.32808885, -1.53949386,\n",
       "        -0.32808885,  1.42171837, -0.73189052, -0.59728997, -0.05888774,\n",
       "         1.82552004],\n",
       "       [-1.3950265 ,  0.82315228,  1.23906081, -0.42457328, -1.11775415,\n",
       "         0.06065333, -0.63252754,  1.23906081,  1.23906081, -1.67229885,\n",
       "        -0.77116372,  1.44701507, -0.28593711, -0.3552552 ,  0.47656185,\n",
       "         0.12997141]])"
      ]
     },
     "execution_count": 242,
     "metadata": {},
     "output_type": "execute_result"
    }
   ],
   "source": [
    "X"
   ]
  },
  {
   "cell_type": "markdown",
   "metadata": {},
   "source": [
    "#### Adding a column of “ones” to the vector X"
   ]
  },
  {
   "cell_type": "code",
   "execution_count": 243,
   "metadata": {},
   "outputs": [],
   "source": [
    "m = len(y) # number of training examples\n",
    "X = np.vstack((np.ones(m), X)).T"
   ]
  },
  {
   "cell_type": "code",
   "execution_count": 244,
   "metadata": {},
   "outputs": [
    {
     "data": {
      "text/plain": [
       "array([[ 1.        , -0.73189052, -1.3950265 ],\n",
       "       [ 1.        , -0.59728997,  0.82315228],\n",
       "       [ 1.        ,  1.15251726,  1.23906081],\n",
       "       [ 1.        , -1.13569219, -0.42457328],\n",
       "       [ 1.        , -0.32808885, -1.11775415],\n",
       "       [ 1.        ,  0.34491392,  0.06065333],\n",
       "       [ 1.        ,  0.07571281, -0.63252754],\n",
       "       [ 1.        ,  1.55631892,  1.23906081],\n",
       "       [ 1.        , -0.32808885,  1.23906081],\n",
       "       [ 1.        , -1.53949386, -1.67229885],\n",
       "       [ 1.        , -0.32808885, -0.77116372],\n",
       "       [ 1.        ,  1.42171837,  1.44701507],\n",
       "       [ 1.        , -0.73189052, -0.28593711],\n",
       "       [ 1.        , -0.59728997, -0.3552552 ],\n",
       "       [ 1.        , -0.05888774,  0.47656185],\n",
       "       [ 1.        ,  1.82552004,  0.12997141]])"
      ]
     },
     "execution_count": 244,
     "metadata": {},
     "output_type": "execute_result"
    }
   ],
   "source": [
    "X"
   ]
  },
  {
   "cell_type": "code",
   "execution_count": null,
   "metadata": {},
   "outputs": [],
   "source": []
  },
  {
   "cell_type": "markdown",
   "metadata": {},
   "source": [
    "#### The Prediction Query\n",
    "The query for the predictions and the code for the normalization are modified as follows:"
   ]
  },
  {
   "cell_type": "code",
   "execution_count": null,
   "metadata": {},
   "outputs": [],
   "source": []
  },
  {
   "cell_type": "code",
   "execution_count": 259,
   "metadata": {},
   "outputs": [],
   "source": [
    "# Perform prediction basing on multiple Query\n",
    "# Predict the Systolic Blood Pressure (SBP) for \n",
    "# a 75 years-old human with weight = 96 Kg:\n",
    "query = [1 ,75, 96]\n",
    "\n",
    "# Scale and Normalize the query\n",
    "#query_Normalized = [1, ((query[0]-float(mu[0]))/float(sigma[0])), ((query[1]-float(mu[1]))/float(sigma[1]))]\n",
    "tt=np.matrix(theta).transpose()\n",
    "# Predict the SBP: (the prediction is the product of the vector [1, 75, 96] and theta)\n",
    "prediction = np.sum(np.multiply(query,tt))"
   ]
  },
  {
   "cell_type": "code",
   "execution_count": 260,
   "metadata": {},
   "outputs": [
    {
     "data": {
      "text/plain": [
       "23802.805936350032"
      ]
     },
     "execution_count": 260,
     "metadata": {},
     "output_type": "execute_result"
    }
   ],
   "source": [
    "prediction"
   ]
  },
  {
   "cell_type": "markdown",
   "metadata": {},
   "source": [
    "With these changes, the Python code is ready for Linear Regression with multiple variables. You have to update the code every time you will add new features from your training set!"
   ]
  },
  {
   "cell_type": "code",
   "execution_count": null,
   "metadata": {},
   "outputs": [],
   "source": []
  }
 ],
 "metadata": {
  "kernelspec": {
   "display_name": "Python 3",
   "language": "python",
   "name": "python3"
  },
  "language_info": {
   "codemirror_mode": {
    "name": "ipython",
    "version": 3
   },
   "file_extension": ".py",
   "mimetype": "text/x-python",
   "name": "python",
   "nbconvert_exporter": "python",
   "pygments_lexer": "ipython3",
   "version": "3.8.3"
  }
 },
 "nbformat": 4,
 "nbformat_minor": 4
}
