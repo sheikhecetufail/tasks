{
 "cells": [
  {
   "cell_type": "code",
   "execution_count": 1,
   "metadata": {},
   "outputs": [],
   "source": [
    "import pandas as pd\n",
    "import numpy as np"
   ]
  },
  {
   "cell_type": "code",
   "execution_count": 2,
   "metadata": {},
   "outputs": [],
   "source": [
    "df_SBP=pd.read_csv(\"I:\\Whatsapp_download\\SBP.csv\")"
   ]
  },
  {
   "cell_type": "code",
   "execution_count": 3,
   "metadata": {},
   "outputs": [],
   "source": [
    "df_pr=pd.read_csv(\"I:\\Whatsapp_download\\house.txt.txt\")"
   ]
  },
  {
   "cell_type": "code",
   "execution_count": 4,
   "metadata": {},
   "outputs": [],
   "source": [
    "df_pr_norm=pd.DataFrame()\n",
    "for la in df_pr.columns:\n",
    "    mu   = df_pr[la].mean()\n",
    "    rnge = df_pr[la].max()-df_pr[la].min()\n",
    "    df_pr_norm[la] = (df_pr[la]-mu)/rnge\n",
    "    "
   ]
  },
  {
   "cell_type": "code",
   "execution_count": 5,
   "metadata": {},
   "outputs": [
    {
     "data": {
      "text/html": [
       "<div>\n",
       "<style scoped>\n",
       "    .dataframe tbody tr th:only-of-type {\n",
       "        vertical-align: middle;\n",
       "    }\n",
       "\n",
       "    .dataframe tbody tr th {\n",
       "        vertical-align: top;\n",
       "    }\n",
       "\n",
       "    .dataframe thead th {\n",
       "        text-align: right;\n",
       "    }\n",
       "</style>\n",
       "<table border=\"1\" class=\"dataframe\">\n",
       "  <thead>\n",
       "    <tr style=\"text-align: right;\">\n",
       "      <th></th>\n",
       "      <th>area</th>\n",
       "      <th>rooms</th>\n",
       "      <th>price</th>\n",
       "    </tr>\n",
       "  </thead>\n",
       "  <tbody>\n",
       "    <tr>\n",
       "      <th>0</th>\n",
       "      <td>0.028494</td>\n",
       "      <td>-0.042553</td>\n",
       "      <td>0.112240</td>\n",
       "    </tr>\n",
       "    <tr>\n",
       "      <th>1</th>\n",
       "      <td>-0.110502</td>\n",
       "      <td>-0.042553</td>\n",
       "      <td>-0.019835</td>\n",
       "    </tr>\n",
       "    <tr>\n",
       "      <th>2</th>\n",
       "      <td>0.110127</td>\n",
       "      <td>-0.042553</td>\n",
       "      <td>0.053938</td>\n",
       "    </tr>\n",
       "    <tr>\n",
       "      <th>3</th>\n",
       "      <td>-0.161247</td>\n",
       "      <td>-0.292553</td>\n",
       "      <td>-0.204552</td>\n",
       "    </tr>\n",
       "    <tr>\n",
       "      <th>4</th>\n",
       "      <td>0.275598</td>\n",
       "      <td>0.207447</td>\n",
       "      <td>0.376391</td>\n",
       "    </tr>\n",
       "    <tr>\n",
       "      <th>5</th>\n",
       "      <td>-0.004325</td>\n",
       "      <td>0.207447</td>\n",
       "      <td>-0.076439</td>\n",
       "    </tr>\n",
       "    <tr>\n",
       "      <th>6</th>\n",
       "      <td>-0.128704</td>\n",
       "      <td>-0.042553</td>\n",
       "      <td>-0.048137</td>\n",
       "    </tr>\n",
       "    <tr>\n",
       "      <th>7</th>\n",
       "      <td>-0.158213</td>\n",
       "      <td>-0.042553</td>\n",
       "      <td>-0.266818</td>\n",
       "    </tr>\n",
       "    <tr>\n",
       "      <th>8</th>\n",
       "      <td>-0.171175</td>\n",
       "      <td>-0.042553</td>\n",
       "      <td>-0.242288</td>\n",
       "    </tr>\n",
       "    <tr>\n",
       "      <th>9</th>\n",
       "      <td>-0.139735</td>\n",
       "      <td>-0.042553</td>\n",
       "      <td>-0.184741</td>\n",
       "    </tr>\n",
       "    <tr>\n",
       "      <th>10</th>\n",
       "      <td>-0.016735</td>\n",
       "      <td>0.207447</td>\n",
       "      <td>-0.189460</td>\n",
       "    </tr>\n",
       "    <tr>\n",
       "      <th>11</th>\n",
       "      <td>-0.000188</td>\n",
       "      <td>-0.042553</td>\n",
       "      <td>0.012429</td>\n",
       "    </tr>\n",
       "    <tr>\n",
       "      <th>12</th>\n",
       "      <td>-0.030524</td>\n",
       "      <td>-0.042553</td>\n",
       "      <td>-0.019648</td>\n",
       "    </tr>\n",
       "    <tr>\n",
       "      <th>13</th>\n",
       "      <td>0.683210</td>\n",
       "      <td>0.457447</td>\n",
       "      <td>0.678278</td>\n",
       "    </tr>\n",
       "    <tr>\n",
       "      <th>14</th>\n",
       "      <td>-0.202063</td>\n",
       "      <td>-0.042553</td>\n",
       "      <td>-0.151911</td>\n",
       "    </tr>\n",
       "    <tr>\n",
       "      <th>15</th>\n",
       "      <td>0.082548</td>\n",
       "      <td>0.207447</td>\n",
       "      <td>0.206580</td>\n",
       "    </tr>\n",
       "    <tr>\n",
       "      <th>16</th>\n",
       "      <td>-0.187722</td>\n",
       "      <td>-0.292553</td>\n",
       "      <td>-0.076439</td>\n",
       "    </tr>\n",
       "    <tr>\n",
       "      <th>17</th>\n",
       "      <td>-0.210888</td>\n",
       "      <td>-0.042553</td>\n",
       "      <td>-0.265118</td>\n",
       "    </tr>\n",
       "    <tr>\n",
       "      <th>18</th>\n",
       "      <td>0.167766</td>\n",
       "      <td>0.207447</td>\n",
       "      <td>0.301104</td>\n",
       "    </tr>\n",
       "    <tr>\n",
       "      <th>19</th>\n",
       "      <td>0.284148</td>\n",
       "      <td>0.207447</td>\n",
       "      <td>0.487901</td>\n",
       "    </tr>\n",
       "    <tr>\n",
       "      <th>20</th>\n",
       "      <td>-0.064446</td>\n",
       "      <td>-0.042553</td>\n",
       "      <td>-0.165118</td>\n",
       "    </tr>\n",
       "    <tr>\n",
       "      <th>21</th>\n",
       "      <td>-0.031076</td>\n",
       "      <td>-0.292553</td>\n",
       "      <td>-0.161156</td>\n",
       "    </tr>\n",
       "    <tr>\n",
       "      <th>22</th>\n",
       "      <td>-0.109399</td>\n",
       "      <td>-0.042553</td>\n",
       "      <td>-0.183986</td>\n",
       "    </tr>\n",
       "    <tr>\n",
       "      <th>23</th>\n",
       "      <td>-0.010668</td>\n",
       "      <td>0.207447</td>\n",
       "      <td>-0.151911</td>\n",
       "    </tr>\n",
       "    <tr>\n",
       "      <th>24</th>\n",
       "      <td>0.521048</td>\n",
       "      <td>-0.042553</td>\n",
       "      <td>0.440542</td>\n",
       "    </tr>\n",
       "    <tr>\n",
       "      <th>25</th>\n",
       "      <td>-0.248395</td>\n",
       "      <td>-0.042553</td>\n",
       "      <td>-0.170779</td>\n",
       "    </tr>\n",
       "    <tr>\n",
       "      <th>26</th>\n",
       "      <td>-0.149664</td>\n",
       "      <td>-0.042553</td>\n",
       "      <td>0.234127</td>\n",
       "    </tr>\n",
       "    <tr>\n",
       "      <th>27</th>\n",
       "      <td>0.144876</td>\n",
       "      <td>-0.042553</td>\n",
       "      <td>0.242618</td>\n",
       "    </tr>\n",
       "    <tr>\n",
       "      <th>28</th>\n",
       "      <td>0.054969</td>\n",
       "      <td>-0.042553</td>\n",
       "      <td>0.253938</td>\n",
       "    </tr>\n",
       "    <tr>\n",
       "      <th>29</th>\n",
       "      <td>0.175488</td>\n",
       "      <td>-0.042553</td>\n",
       "      <td>-0.076439</td>\n",
       "    </tr>\n",
       "    <tr>\n",
       "      <th>30</th>\n",
       "      <td>-0.044589</td>\n",
       "      <td>-0.292553</td>\n",
       "      <td>0.017901</td>\n",
       "    </tr>\n",
       "    <tr>\n",
       "      <th>31</th>\n",
       "      <td>-0.275974</td>\n",
       "      <td>-0.542553</td>\n",
       "      <td>-0.321722</td>\n",
       "    </tr>\n",
       "    <tr>\n",
       "      <th>32</th>\n",
       "      <td>0.010844</td>\n",
       "      <td>0.207447</td>\n",
       "      <td>-0.048137</td>\n",
       "    </tr>\n",
       "    <tr>\n",
       "      <th>33</th>\n",
       "      <td>0.313381</td>\n",
       "      <td>-0.042553</td>\n",
       "      <td>0.451863</td>\n",
       "    </tr>\n",
       "    <tr>\n",
       "      <th>34</th>\n",
       "      <td>-0.052311</td>\n",
       "      <td>0.207447</td>\n",
       "      <td>-0.102854</td>\n",
       "    </tr>\n",
       "    <tr>\n",
       "      <th>35</th>\n",
       "      <td>-0.155455</td>\n",
       "      <td>-0.042553</td>\n",
       "      <td>-0.170779</td>\n",
       "    </tr>\n",
       "    <tr>\n",
       "      <th>36</th>\n",
       "      <td>-0.210061</td>\n",
       "      <td>-0.042553</td>\n",
       "      <td>-0.208514</td>\n",
       "    </tr>\n",
       "    <tr>\n",
       "      <th>37</th>\n",
       "      <td>0.036216</td>\n",
       "      <td>0.207447</td>\n",
       "      <td>0.008655</td>\n",
       "    </tr>\n",
       "    <tr>\n",
       "      <th>38</th>\n",
       "      <td>0.610678</td>\n",
       "      <td>0.207447</td>\n",
       "      <td>0.393561</td>\n",
       "    </tr>\n",
       "    <tr>\n",
       "      <th>39</th>\n",
       "      <td>0.044490</td>\n",
       "      <td>0.207447</td>\n",
       "      <td>-0.100779</td>\n",
       "    </tr>\n",
       "    <tr>\n",
       "      <th>40</th>\n",
       "      <td>-0.092852</td>\n",
       "      <td>-0.292553</td>\n",
       "      <td>0.052995</td>\n",
       "    </tr>\n",
       "    <tr>\n",
       "      <th>41</th>\n",
       "      <td>0.065449</td>\n",
       "      <td>-0.042553</td>\n",
       "      <td>-0.019835</td>\n",
       "    </tr>\n",
       "    <tr>\n",
       "      <th>42</th>\n",
       "      <td>0.156183</td>\n",
       "      <td>0.207447</td>\n",
       "      <td>-0.049835</td>\n",
       "    </tr>\n",
       "    <tr>\n",
       "      <th>43</th>\n",
       "      <td>-0.220817</td>\n",
       "      <td>-0.042553</td>\n",
       "      <td>-0.078137</td>\n",
       "    </tr>\n",
       "    <tr>\n",
       "      <th>44</th>\n",
       "      <td>-0.316790</td>\n",
       "      <td>-0.292553</td>\n",
       "      <td>-0.302854</td>\n",
       "    </tr>\n",
       "    <tr>\n",
       "      <th>45</th>\n",
       "      <td>-0.041004</td>\n",
       "      <td>0.207447</td>\n",
       "      <td>-0.076439</td>\n",
       "    </tr>\n",
       "    <tr>\n",
       "      <th>46</th>\n",
       "      <td>-0.219989</td>\n",
       "      <td>-0.042553</td>\n",
       "      <td>-0.190401</td>\n",
       "    </tr>\n",
       "  </tbody>\n",
       "</table>\n",
       "</div>"
      ],
      "text/plain": [
       "        area     rooms     price\n",
       "0   0.028494 -0.042553  0.112240\n",
       "1  -0.110502 -0.042553 -0.019835\n",
       "2   0.110127 -0.042553  0.053938\n",
       "3  -0.161247 -0.292553 -0.204552\n",
       "4   0.275598  0.207447  0.376391\n",
       "5  -0.004325  0.207447 -0.076439\n",
       "6  -0.128704 -0.042553 -0.048137\n",
       "7  -0.158213 -0.042553 -0.266818\n",
       "8  -0.171175 -0.042553 -0.242288\n",
       "9  -0.139735 -0.042553 -0.184741\n",
       "10 -0.016735  0.207447 -0.189460\n",
       "11 -0.000188 -0.042553  0.012429\n",
       "12 -0.030524 -0.042553 -0.019648\n",
       "13  0.683210  0.457447  0.678278\n",
       "14 -0.202063 -0.042553 -0.151911\n",
       "15  0.082548  0.207447  0.206580\n",
       "16 -0.187722 -0.292553 -0.076439\n",
       "17 -0.210888 -0.042553 -0.265118\n",
       "18  0.167766  0.207447  0.301104\n",
       "19  0.284148  0.207447  0.487901\n",
       "20 -0.064446 -0.042553 -0.165118\n",
       "21 -0.031076 -0.292553 -0.161156\n",
       "22 -0.109399 -0.042553 -0.183986\n",
       "23 -0.010668  0.207447 -0.151911\n",
       "24  0.521048 -0.042553  0.440542\n",
       "25 -0.248395 -0.042553 -0.170779\n",
       "26 -0.149664 -0.042553  0.234127\n",
       "27  0.144876 -0.042553  0.242618\n",
       "28  0.054969 -0.042553  0.253938\n",
       "29  0.175488 -0.042553 -0.076439\n",
       "30 -0.044589 -0.292553  0.017901\n",
       "31 -0.275974 -0.542553 -0.321722\n",
       "32  0.010844  0.207447 -0.048137\n",
       "33  0.313381 -0.042553  0.451863\n",
       "34 -0.052311  0.207447 -0.102854\n",
       "35 -0.155455 -0.042553 -0.170779\n",
       "36 -0.210061 -0.042553 -0.208514\n",
       "37  0.036216  0.207447  0.008655\n",
       "38  0.610678  0.207447  0.393561\n",
       "39  0.044490  0.207447 -0.100779\n",
       "40 -0.092852 -0.292553  0.052995\n",
       "41  0.065449 -0.042553 -0.019835\n",
       "42  0.156183  0.207447 -0.049835\n",
       "43 -0.220817 -0.042553 -0.078137\n",
       "44 -0.316790 -0.292553 -0.302854\n",
       "45 -0.041004  0.207447 -0.076439\n",
       "46 -0.219989 -0.042553 -0.190401"
      ]
     },
     "execution_count": 5,
     "metadata": {},
     "output_type": "execute_result"
    }
   ],
   "source": [
    "#df_pr['area'].value_counts().sort_index()\n",
    "df_pr_norm"
   ]
  },
  {
   "cell_type": "code",
   "execution_count": 58,
   "metadata": {},
   "outputs": [],
   "source": [
    "x=df_pr_norm[['area','rooms']].values.astype('float64')\n",
    "y=df_pr_norm['price'].values.astype('float64')\n",
    "m=len(y)\n",
    "x=np.hstack((np.ones(m).reshape(m,1),x))"
   ]
  },
  {
   "cell_type": "code",
   "execution_count": null,
   "metadata": {},
   "outputs": [],
   "source": []
  },
  {
   "cell_type": "code",
   "execution_count": 7,
   "metadata": {},
   "outputs": [],
   "source": [
    "import matplotlib.pyplot as plt\n",
    "%matplotlib inline"
   ]
  },
  {
   "cell_type": "code",
   "execution_count": 8,
   "metadata": {},
   "outputs": [
    {
     "data": {
      "text/plain": [
       "<matplotlib.collections.PathCollection at 0x9aa67c0>"
      ]
     },
     "execution_count": 8,
     "metadata": {},
     "output_type": "execute_result"
    },
    {
     "data": {
      "image/png": "[encoded data removed]",
      "text/plain": [
       "<Figure size 432x288 with 1 Axes>"
      ]
     },
     "metadata": {
      "needs_background": "light"
     },
     "output_type": "display_data"
    }
   ],
   "source": [
    "plt.scatter(x[:,0],x[:,1])"
   ]
  },
  {
   "cell_type": "code",
   "execution_count": 297,
   "metadata": {},
   "outputs": [
    {
     "data": {
      "text/plain": [
       "array([2., 2., 4.])"
      ]
     },
     "execution_count": 297,
     "metadata": {},
     "output_type": "execute_result"
    }
   ],
   "source": [
    "w = np.zeros((3,1)).astype('float64')\n",
    "w = np.array([2,2,4]).astype(float)\n",
    "#w = np.random.randint(1,9,3)\n",
    "w"
   ]
  },
  {
   "cell_type": "code",
   "execution_count": 295,
   "metadata": {},
   "outputs": [],
   "source": [
    "def cost_min(w,x,y,m,alpha,iterations):\n",
    "    j = list()\n",
    "    print(w)\n",
    "    for _ in range(iterations):\n",
    "        cst = np.sum((np.dot(x,w)-y)**2)/(2*m)\n",
    "        j.append(cst)\n",
    "        #print(w)\n",
    "        #print(alpha*np.sum((np.dot(x,w)-y)*x[:,1])/m)\n",
    "        w[0]=w[0]-alpha*np.sum((np.multiply(x,w)-y)*x[:,0].reshape(m,1))/m\n",
    "        w[1]=w[1]-alpha*np.sum((np.multiply(x,w)-y)*x[:,1].reshape(m,1))/m\n",
    "        w[2]=w[2]-alpha*np.sum((np.multiply(x,w)-y)*x[:,2].reshape(m,1))/m\n",
    "        print(w)\n",
    "        print('**************')\n",
    "        \n",
    "    return w,j\n"
   ]
  },
  {
   "cell_type": "code",
   "execution_count": 304,
   "metadata": {},
   "outputs": [
    {
     "data": {
      "text/plain": [
       "14"
      ]
     },
     "execution_count": 304,
     "metadata": {},
     "output_type": "execute_result"
    }
   ],
   "source": [
    "(np.dot(x,w)-y)  #*x[:,0]\n",
    "np.dot(np.array([1,3]),np.array([2,4]))"
   ]
  },
  {
   "cell_type": "code",
   "execution_count": 296,
   "metadata": {},
   "outputs": [
    {
     "name": "stdout",
     "output_type": "stream",
     "text": [
      "[2. 2. 4.]\n",
      "[1.06 2.   4.  ]\n",
      "**************\n",
      "[0.5618 2.     4.    ]\n",
      "**************\n",
      "[0.297754 2.       4.      ]\n",
      "**************\n",
      "[0.15780962 2.         4.        ]\n",
      "**************\n",
      "[0.0836391 2.        4.       ]\n",
      "**************\n",
      "[0.04432872 2.         4.        ]\n",
      "**************\n",
      "[0.02349422 2.         4.        ]\n",
      "**************\n",
      "[0.01245194 2.         4.        ]\n",
      "**************\n",
      "[0.00659953 2.         4.        ]\n",
      "**************\n",
      "[3.49774941e-03 2.00000000e+00 4.00000000e+00]\n",
      "**************\n",
      "[1.85380719e-03 2.00000000e+00 4.00000000e+00]\n",
      "**************\n",
      "[9.82517809e-04 2.00000000e+00 4.00000000e+00]\n",
      "**************\n",
      "[5.20734439e-04 2.00000000e+00 4.00000000e+00]\n",
      "**************\n",
      "[2.75989252e-04 2.00000000e+00 4.00000000e+00]\n",
      "**************\n",
      "[1.46274304e-04 2.00000000e+00 4.00000000e+00]\n",
      "**************\n",
      "[7.7525381e-05 2.0000000e+00 4.0000000e+00]\n",
      "**************\n",
      "[4.10884519e-05 2.00000000e+00 4.00000000e+00]\n",
      "**************\n",
      "[2.17768795e-05 2.00000000e+00 4.00000000e+00]\n",
      "**************\n",
      "[1.15417461e-05 2.00000000e+00 4.00000000e+00]\n",
      "**************\n",
      "[6.11712546e-06 2.00000000e+00 4.00000000e+00]\n",
      "**************\n",
      "[3.24207649e-06 2.00000000e+00 4.00000000e+00]\n",
      "**************\n",
      "[1.71830054e-06 2.00000000e+00 4.00000000e+00]\n",
      "**************\n",
      "[9.10699287e-07 2.00000000e+00 4.00000000e+00]\n",
      "**************\n",
      "[4.82670622e-07 2.00000000e+00 4.00000000e+00]\n",
      "**************\n",
      "[2.55815429e-07 2.00000000e+00 4.00000000e+00]\n",
      "**************\n",
      "[1.35582177e-07 2.00000000e+00 4.00000000e+00]\n",
      "**************\n",
      "[7.1858554e-08 2.0000000e+00 4.0000000e+00]\n",
      "**************\n",
      "[3.80850335e-08 2.00000000e+00 4.00000000e+00]\n",
      "**************\n",
      "[2.01850677e-08 2.00000000e+00 4.00000000e+00]\n",
      "**************\n",
      "[1.06980857e-08 2.00000000e+00 4.00000000e+00]\n",
      "**************\n",
      "[5.66998535e-09 2.00000000e+00 4.00000000e+00]\n",
      "**************\n",
      "[3.00509212e-09 2.00000000e+00 4.00000000e+00]\n",
      "**************\n",
      "[1.59269871e-09 2.00000000e+00 4.00000000e+00]\n",
      "**************\n",
      "[8.4413021e-10 2.0000000e+00 4.0000000e+00]\n",
      "**************\n",
      "[4.47388899e-10 2.00000000e+00 4.00000000e+00]\n",
      "**************\n",
      "[2.3711601e-10 2.0000000e+00 4.0000000e+00]\n",
      "**************\n",
      "[1.25671373e-10 2.00000000e+00 4.00000000e+00]\n",
      "**************\n",
      "[6.66057162e-11 2.00000000e+00 4.00000000e+00]\n",
      "**************\n",
      "[3.5300919e-11 2.0000000e+00 4.0000000e+00]\n",
      "**************\n",
      "[1.87093813e-11 2.00000000e+00 4.00000000e+00]\n",
      "**************\n",
      "[9.91586007e-12 2.00000000e+00 4.00000000e+00]\n",
      "**************\n",
      "[5.25530519e-12 2.00000000e+00 4.00000000e+00]\n",
      "**************\n",
      "[2.78519795e-12 2.00000000e+00 4.00000000e+00]\n",
      "**************\n",
      "[1.47604115e-12 2.00000000e+00 4.00000000e+00]\n",
      "**************\n",
      "[7.82189274e-13 2.00000000e+00 4.00000000e+00]\n",
      "**************\n",
      "[4.14453266e-13 2.00000000e+00 4.00000000e+00]\n",
      "**************\n",
      "[2.19552859e-13 2.00000000e+00 4.00000000e+00]\n",
      "**************\n",
      "[1.1625922e-13 2.0000000e+00 4.0000000e+00]\n",
      "**************\n",
      "[6.15049103e-14 2.00000000e+00 4.00000000e+00]\n",
      "**************\n",
      "[3.24972865e-14 2.00000000e+00 4.00000000e+00]\n",
      "**************\n",
      "[1.71247606e-14 2.00000000e+00 4.00000000e+00]\n",
      "**************\n",
      "[8.9778023e-15 2.0000000e+00 4.0000000e+00]\n",
      "**************\n",
      "[4.65298756e-15 2.00000000e+00 4.00000000e+00]\n",
      "**************\n",
      "[2.3617707e-15 2.0000000e+00 4.0000000e+00]\n",
      "**************\n",
      "[1.14340723e-15 2.00000000e+00 4.00000000e+00]\n",
      "**************\n",
      "[4.97493647e-16 2.00000000e+00 4.00000000e+00]\n",
      "**************\n",
      "[1.57292966e-16 2.00000000e+00 4.00000000e+00]\n",
      "**************\n",
      "[-2.33190607e-17  2.00000000e+00  4.00000000e+00]\n",
      "**************\n",
      "[-1.29286305e-16  2.00000000e+00  4.00000000e+00]\n",
      "**************\n",
      "[-1.82151818e-16  2.00000000e+00  4.00000000e+00]\n",
      "**************\n",
      "[-2.04167305e-16  2.00000000e+00  4.00000000e+00]\n",
      "**************\n",
      "[-2.08183005e-16  2.00000000e+00  4.00000000e+00]\n",
      "**************\n",
      "[-2.06340507e-16  2.00000000e+00  4.00000000e+00]\n",
      "**************\n",
      "[-2.07663326e-16  2.00000000e+00  4.00000000e+00]\n",
      "**************\n",
      "[-2.08986145e-16  2.00000000e+00  4.00000000e+00]\n",
      "**************\n",
      "[-2.07143647e-16  2.00000000e+00  4.00000000e+00]\n",
      "**************\n",
      "[-2.08466466e-16  2.00000000e+00  4.00000000e+00]\n",
      "**************\n",
      "[-2.06623969e-16  2.00000000e+00  4.00000000e+00]\n",
      "**************\n",
      "[-2.07946787e-16  2.00000000e+00  4.00000000e+00]\n",
      "**************\n",
      "[-2.09269606e-16  2.00000000e+00  4.00000000e+00]\n",
      "**************\n",
      "[-2.07427109e-16  2.00000000e+00  4.00000000e+00]\n",
      "**************\n",
      "[-2.08749928e-16  2.00000000e+00  4.00000000e+00]\n",
      "**************\n",
      "[-2.0690743e-16  2.0000000e+00  4.0000000e+00]\n",
      "**************\n",
      "[-2.08230249e-16  2.00000000e+00  4.00000000e+00]\n",
      "**************\n",
      "[-2.06387751e-16  2.00000000e+00  4.00000000e+00]\n",
      "**************\n",
      "[-2.0771057e-16  2.0000000e+00  4.0000000e+00]\n",
      "**************\n",
      "[-2.09033389e-16  2.00000000e+00  4.00000000e+00]\n",
      "**************\n",
      "[-2.07190891e-16  2.00000000e+00  4.00000000e+00]\n",
      "**************\n",
      "[-2.0851371e-16  2.0000000e+00  4.0000000e+00]\n",
      "**************\n",
      "[-2.06671212e-16  2.00000000e+00  4.00000000e+00]\n",
      "**************\n",
      "[-2.07994031e-16  2.00000000e+00  4.00000000e+00]\n",
      "**************\n",
      "[-2.0931685e-16  2.0000000e+00  4.0000000e+00]\n",
      "**************\n",
      "[-2.07474352e-16  2.00000000e+00  4.00000000e+00]\n",
      "**************\n",
      "[-2.08797171e-16  2.00000000e+00  4.00000000e+00]\n",
      "**************\n",
      "[-2.06954673e-16  2.00000000e+00  4.00000000e+00]\n",
      "**************\n",
      "[-2.08277492e-16  2.00000000e+00  4.00000000e+00]\n",
      "**************\n",
      "[-2.06434994e-16  2.00000000e+00  4.00000000e+00]\n",
      "**************\n",
      "[-2.07757813e-16  2.00000000e+00  4.00000000e+00]\n",
      "**************\n",
      "[-2.09080632e-16  2.00000000e+00  4.00000000e+00]\n",
      "**************\n",
      "[-2.07238134e-16  2.00000000e+00  4.00000000e+00]\n",
      "**************\n",
      "[-2.08560953e-16  2.00000000e+00  4.00000000e+00]\n",
      "**************\n",
      "[-2.06718456e-16  2.00000000e+00  4.00000000e+00]\n",
      "**************\n",
      "[-2.08041275e-16  2.00000000e+00  4.00000000e+00]\n",
      "**************\n",
      "[-2.09364093e-16  2.00000000e+00  4.00000000e+00]\n",
      "**************\n",
      "[-2.07521596e-16  2.00000000e+00  4.00000000e+00]\n",
      "**************\n",
      "[-2.08844415e-16  2.00000000e+00  4.00000000e+00]\n",
      "**************\n",
      "[-2.07001917e-16  2.00000000e+00  4.00000000e+00]\n",
      "**************\n",
      "[-2.08324736e-16  2.00000000e+00  4.00000000e+00]\n",
      "**************\n",
      "[-2.06482238e-16  2.00000000e+00  4.00000000e+00]\n",
      "**************\n",
      "[-2.07805057e-16  2.00000000e+00  4.00000000e+00]\n",
      "**************\n"
     ]
    }
   ],
   "source": [
    "theta,cost=cost_min(w,x,y,m,0.01,100)\n",
    "#theta,cost"
   ]
  },
  {
   "cell_type": "code",
   "execution_count": null,
   "metadata": {},
   "outputs": [],
   "source": []
  },
  {
   "cell_type": "code",
   "execution_count": 274,
   "metadata": {},
   "outputs": [
    {
     "data": {
      "text/plain": [
       "array([[-5.31367291e-17],\n",
       "       [-1.87525292e-01],\n",
       "       [ 5.91146681e-01]])"
      ]
     },
     "execution_count": 274,
     "metadata": {},
     "output_type": "execute_result"
    }
   ],
   "source": [
    "theta"
   ]
  },
  {
   "cell_type": "code",
   "execution_count": 284,
   "metadata": {},
   "outputs": [
    {
     "data": {
      "text/plain": [
       "[<matplotlib.lines.Line2D at 0xad96910>]"
      ]
     },
     "execution_count": 284,
     "metadata": {},
     "output_type": "execute_result"
    },
    {
     "data": {
      "image/png": "[encoded data removed]",
      "text/plain": [
       "<Figure size 432x288 with 1 Axes>"
      ]
     },
     "metadata": {
      "needs_background": "light"
     },
     "output_type": "display_data"
    }
   ],
   "source": [
    "plt.scatter(x[:,2],y)\n",
    "plt.plot(x[:,2],w[0]+x[:,2]*w[2],\"-ro\")\n"
   ]
  },
  {
   "cell_type": "code",
   "execution_count": 57,
   "metadata": {},
   "outputs": [
    {
     "data": {
      "text/plain": [
       "array([[1.],\n",
       "       [3.],\n",
       "       [4.]])"
      ]
     },
     "execution_count": 57,
     "metadata": {},
     "output_type": "execute_result"
    }
   ],
   "source": []
  },
  {
   "cell_type": "code",
   "execution_count": 285,
   "metadata": {},
   "outputs": [],
   "source": [
    "np.multiply?"
   ]
  },
  {
   "cell_type": "code",
   "execution_count": 286,
   "metadata": {},
   "outputs": [
    {
     "data": {
      "text/plain": [
       "array([[ 0.,  1.,  4.],\n",
       "       [ 0.,  4., 10.],\n",
       "       [ 0.,  7., 16.]])"
      ]
     },
     "execution_count": 286,
     "metadata": {},
     "output_type": "execute_result"
    }
   ],
   "source": [
    "x1 = np.arange(9.0).reshape((3, 3))\n",
    "x2 = np.arange(3.0)\n",
    "np.multiply(x1, x2)"
   ]
  },
  {
   "cell_type": "code",
   "execution_count": 287,
   "metadata": {},
   "outputs": [
    {
     "data": {
      "text/plain": [
       "array([[0., 1., 2.],\n",
       "       [3., 4., 5.],\n",
       "       [6., 7., 8.]])"
      ]
     },
     "execution_count": 287,
     "metadata": {},
     "output_type": "execute_result"
    }
   ],
   "source": [
    "np.arange(9.0).reshape((3, 3))"
   ]
  },
  {
   "cell_type": "code",
   "execution_count": 289,
   "metadata": {},
   "outputs": [
    {
     "data": {
      "text/plain": [
       "array([0., 1., 2.])"
      ]
     },
     "execution_count": 289,
     "metadata": {},
     "output_type": "execute_result"
    }
   ],
   "source": [
    "np.arange(3.0)"
   ]
  },
  {
   "cell_type": "code",
   "execution_count": null,
   "metadata": {},
   "outputs": [],
   "source": []
  }
 ],
 "metadata": {
  "kernelspec": {
   "display_name": "Python 3",
   "language": "python",
   "name": "python3"
  },
  "language_info": {
   "codemirror_mode": {
    "name": "ipython",
    "version": 3
   },
   "file_extension": ".py",
   "mimetype": "text/x-python",
   "name": "python",
   "nbconvert_exporter": "python",
   "pygments_lexer": "ipython3",
   "version": "3.8.3"
  }
 },
 "nbformat": 4,
 "nbformat_minor": 4
}
