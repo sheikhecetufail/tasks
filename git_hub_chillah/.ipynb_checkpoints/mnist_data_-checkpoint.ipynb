{
 "cells": [
  {
   "cell_type": "code",
   "execution_count": 1,
   "metadata": {},
   "outputs": [],
   "source": [
    "import numpy as np\n",
    "import matplotlib.pyplot as plt\n",
    "import sklearn"
   ]
  },
  {
   "cell_type": "markdown",
   "metadata": {},
   "source": [
    "# *Get the data*"
   ]
  },
  {
   "cell_type": "code",
   "execution_count": 5,
   "metadata": {},
   "outputs": [],
   "source": [
    "import sklearn.datasets"
   ]
  },
  {
   "cell_type": "code",
   "execution_count": 15,
   "metadata": {},
   "outputs": [],
   "source": [
    "data, target = sklearn.datasets.load_digits(return_X_y= True)"
   ]
  },
  {
   "cell_type": "code",
   "execution_count": 21,
   "metadata": {},
   "outputs": [
    {
     "data": {
      "text/plain": [
       "<matplotlib.image.AxesImage at 0x6d51580>"
      ]
     },
     "execution_count": 21,
     "metadata": {},
     "output_type": "execute_result"
    },
    {
     "data": {
      "image/png": "[encoded data removed]",
      "text/plain": [
       "<Figure size 432x288 with 1 Axes>"
      ]
     },
     "metadata": {
      "needs_background": "light"
     },
     "output_type": "display_data"
    }
   ],
   "source": [
    "plt.imshow(data[4].reshape(8,8))"
   ]
  },
  {
   "cell_type": "code",
   "execution_count": 24,
   "metadata": {},
   "outputs": [],
   "source": [
    "from sklearn.model_selection import train_test_split\n",
    "X_train,X_test,y_train,y_test = train_test_split(data,target,test_size = 0.2)"
   ]
  },
  {
   "cell_type": "code",
   "execution_count": 29,
   "metadata": {},
   "outputs": [
    {
     "name": "stderr",
     "output_type": "stream",
     "text": [
      "G:\\Anaconda\\lib\\site-packages\\sklearn\\linear_model\\_logistic.py:762: ConvergenceWarning: lbfgs failed to converge (status=1):\n",
      "STOP: TOTAL NO. of ITERATIONS REACHED LIMIT.\n",
      "\n",
      "Increase the number of iterations (max_iter) or scale the data as shown in:\n",
      "    https://scikit-learn.org/stable/modules/preprocessing.html\n",
      "Please also refer to the documentation for alternative solver options:\n",
      "    https://scikit-learn.org/stable/modules/linear_model.html#logistic-regression\n",
      "  n_iter_i = _check_optimize_result(\n"
     ]
    },
    {
     "data": {
      "text/plain": [
       "array([5, 5, 6, 4, 1, 9, 5, 4, 8, 4, 0, 4, 9, 0, 3, 1, 0, 6, 0, 6, 2, 6,\n",
       "       1, 3, 0, 5, 5, 8, 7, 9, 9, 1, 4, 5, 7, 3, 7, 4, 2, 1, 2, 3, 2, 7,\n",
       "       6, 1, 6, 6, 2, 1, 2, 8, 0, 9, 1, 3, 7, 0, 3, 1, 3, 0, 4, 0, 4, 1,\n",
       "       9, 5, 0, 3, 4, 5, 9, 1, 6, 7, 1, 0, 8, 4, 8, 4, 0, 2, 8, 1, 9, 8,\n",
       "       9, 4, 7, 3, 4, 7, 1, 2, 6, 9, 7, 9, 5, 4, 1, 1, 6, 2, 9, 2, 0, 2,\n",
       "       5, 6, 1, 6, 9, 6, 4, 5, 3, 1, 1, 3, 1, 3, 2, 5, 0, 4, 3, 4, 3, 5,\n",
       "       4, 0, 6, 5, 2, 7, 7, 1, 5, 0, 3, 8, 2, 3, 5, 2, 0, 9, 2, 4, 7, 5,\n",
       "       1, 6, 8, 7, 0, 4, 5, 3, 7, 9, 0, 6, 6, 7, 2, 2, 1, 1, 0, 7, 8, 3,\n",
       "       4, 3, 9, 9, 1, 1, 3, 1, 0, 7, 9, 1, 6, 7, 1, 5, 7, 0, 7, 4, 9, 7,\n",
       "       3, 0, 6, 5, 7, 0, 8, 0, 1, 2, 5, 7, 1, 8, 6, 0, 3, 9, 6, 8, 8, 4,\n",
       "       3, 3, 7, 8, 5, 6, 9, 5, 5, 5, 4, 3, 2, 7, 3, 9, 0, 1, 3, 1, 1, 3,\n",
       "       2, 7, 6, 5, 6, 9, 8, 5, 0, 5, 3, 2, 0, 6, 4, 9, 2, 6, 8, 7, 3, 5,\n",
       "       4, 9, 2, 7, 0, 3, 2, 8, 4, 9, 7, 6, 4, 8, 4, 1, 5, 8, 7, 2, 8, 1,\n",
       "       0, 4, 0, 6, 2, 4, 7, 3, 3, 8, 3, 0, 0, 0, 8, 4, 0, 5, 4, 0, 7, 9,\n",
       "       6, 9, 7, 5, 3, 4, 7, 5, 3, 1, 9, 7, 4, 0, 2, 1, 9, 2, 3, 3, 4, 3,\n",
       "       9, 8, 6, 8, 6, 9, 8, 8, 4, 1, 5, 9, 4, 0, 0, 0, 7, 7, 6, 7, 5, 5,\n",
       "       7, 4, 8, 4, 8, 3, 7, 5])"
      ]
     },
     "execution_count": 29,
     "metadata": {},
     "output_type": "execute_result"
    }
   ],
   "source": [
    "from sklearn.linear_model import LogisticRegression\n",
    "model = LogisticRegression().fit(X_train,y_train)\n",
    "model.predict(X_test)"
   ]
  },
  {
   "cell_type": "code",
   "execution_count": 27,
   "metadata": {},
   "outputs": [
    {
     "data": {
      "text/plain": [
       "0.9722222222222222"
      ]
     },
     "execution_count": 27,
     "metadata": {},
     "output_type": "execute_result"
    }
   ],
   "source": [
    "model.score(X_test,y_test)"
   ]
  },
  {
   "cell_type": "code",
   "execution_count": 32,
   "metadata": {},
   "outputs": [
    {
     "data": {
      "text/plain": [
       "<matplotlib.image.AxesImage at 0x6cb1280>"
      ]
     },
     "execution_count": 32,
     "metadata": {},
     "output_type": "execute_result"
    },
    {
     "data": {
      "image/png": "[encoded data removed]",
      "text/plain": [
       "<Figure size 432x288 with 1 Axes>"
      ]
     },
     "metadata": {
      "needs_background": "light"
     },
     "output_type": "display_data"
    }
   ],
   "source": [
    "plt.imshow(X_test[5].reshape(8,8))"
   ]
  },
  {
   "cell_type": "code",
   "execution_count": null,
   "metadata": {},
   "outputs": [],
   "source": []
  }
 ],
 "metadata": {
  "kernelspec": {
   "display_name": "Python 3",
   "language": "python",
   "name": "python3"
  },
  "language_info": {
   "codemirror_mode": {
    "name": "ipython",
    "version": 3
   },
   "file_extension": ".py",
   "mimetype": "text/x-python",
   "name": "python",
   "nbconvert_exporter": "python",
   "pygments_lexer": "ipython3",
   "version": "3.8.3"
  }
 },
 "nbformat": 4,
 "nbformat_minor": 4
}
